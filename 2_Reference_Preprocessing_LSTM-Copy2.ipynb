{
 "cells": [
  {
   "cell_type": "markdown",
   "metadata": {},
   "source": [
    "# DonorsChoose"
   ]
  },
  {
   "cell_type": "markdown",
   "metadata": {},
   "source": [
    "<p>\n",
    "DonorsChoose.org receives hundreds of thousands of project proposals each year for classroom projects in need of funding. Right now, a large number of volunteers is needed to manually screen each submission before it's approved to be posted on the DonorsChoose.org website.\n",
    "</p>\n",
    "<p>\n",
    "    Next year, DonorsChoose.org expects to receive close to 500,000 project proposals. As a result, there are three main problems they need to solve:\n",
    "<ul>\n",
    "<li>\n",
    "    How to scale current manual processes and resources to screen 500,000 projects so that they can be posted as quickly and as efficiently as possible</li>\n",
    "    <li>How to increase the consistency of project vetting across different volunteers to improve the experience for teachers</li>\n",
    "    <li>How to focus volunteer time on the applications that need the most assistance</li>\n",
    "    </ul>\n",
    "</p>    \n",
    "<p>\n",
    "The goal of the competition is to predict whether or not a DonorsChoose.org project proposal submitted by a teacher will be approved, using the text of project descriptions as well as additional metadata about the project, teacher, and school. DonorsChoose.org can then use this information to identify projects most likely to need further review before approval.\n",
    "</p>"
   ]
  },
  {
   "cell_type": "markdown",
   "metadata": {},
   "source": [
    "## About the DonorsChoose Data Set\n",
    "\n",
    "The `train.csv` data set provided by DonorsChoose contains the following features:\n",
    "\n",
    "Feature | Description \n",
    "----------|---------------\n",
    "**`project_id`** | A unique identifier for the proposed project. **Example:** `p036502`   \n",
    "**`project_title`**    | Title of the project. **Examples:**<br><ul><li><code>Art Will Make You Happy!</code></li><li><code>First Grade Fun</code></li></ul> \n",
    "**`project_grade_category`** | Grade level of students for which the project is targeted. One of the following enumerated values: <br/><ul><li><code>Grades PreK-2</code></li><li><code>Grades 3-5</code></li><li><code>Grades 6-8</code></li><li><code>Grades 9-12</code></li></ul>  \n",
    " **`project_subject_categories`** | One or more (comma-separated) subject categories for the project from the following enumerated list of values:  <br/><ul><li><code>Applied Learning</code></li><li><code>Care &amp; Hunger</code></li><li><code>Health &amp; Sports</code></li><li><code>History &amp; Civics</code></li><li><code>Literacy &amp; Language</code></li><li><code>Math &amp; Science</code></li><li><code>Music &amp; The Arts</code></li><li><code>Special Needs</code></li><li><code>Warmth</code></li></ul><br/> **Examples:** <br/><ul><li><code>Music &amp; The Arts</code></li><li><code>Literacy &amp; Language, Math &amp; Science</code></li>  \n",
    "  **`school_state`** | State where school is located ([Two-letter U.S. postal code](https://en.wikipedia.org/wiki/List_of_U.S._state_abbreviations#Postal_codes)). **Example:** `WY`\n",
    "**`project_subject_subcategories`** | One or more (comma-separated) subject subcategories for the project. **Examples:** <br/><ul><li><code>Literacy</code></li><li><code>Literature &amp; Writing, Social Sciences</code></li></ul> \n",
    "**`project_resource_summary`** | An explanation of the resources needed for the project. **Example:** <br/><ul><li><code>My students need hands on literacy materials to manage sensory needs!</code</li></ul> \n",
    "**`project_essay_1`**    | First application essay<sup>*</sup>  \n",
    "**`project_essay_2`**    | Second application essay<sup>*</sup> \n",
    "**`project_essay_3`**    | Third application essay<sup>*</sup> \n",
    "**`project_essay_4`**    | Fourth application essay<sup>*</sup> \n",
    "**`project_submitted_datetime`** | Datetime when project application was submitted. **Example:** `2016-04-28 12:43:56.245`   \n",
    "**`teacher_id`** | A unique identifier for the teacher of the proposed project. **Example:** `bdf8baa8fedef6bfeec7ae4ff1c15c56`  \n",
    "**`teacher_prefix`** | Teacher's title. One of the following enumerated values: <br/><ul><li><code>nan</code></li><li><code>Dr.</code></li><li><code>Mr.</code></li><li><code>Mrs.</code></li><li><code>Ms.</code></li><li><code>Teacher.</code></li></ul>  \n",
    "**`teacher_number_of_previously_posted_projects`** | Number of project applications previously submitted by the same teacher. **Example:** `2` \n",
    "\n",
    "<sup>*</sup> See the section <b>Notes on the Essay Data</b> for more details about these features.\n",
    "\n",
    "Additionally, the `resources.csv` data set provides more data about the resources required for each project. Each line in this file represents a resource required by a project:\n",
    "\n",
    "Feature | Description \n",
    "----------|---------------\n",
    "**`id`** | A `project_id` value from the `train.csv` file.  **Example:** `p036502`   \n",
    "**`description`** | Desciption of the resource. **Example:** `Tenor Saxophone Reeds, Box of 25`   \n",
    "**`quantity`** | Quantity of the resource required. **Example:** `3`   \n",
    "**`price`** | Price of the resource required. **Example:** `9.95`   \n",
    "\n",
    "**Note:** Many projects require multiple resources. The `id` value corresponds to a `project_id` in train.csv, so you use it as a key to retrieve all resources needed for a project:\n",
    "\n",
    "The data set contains the following label (the value you will attempt to predict):\n",
    "\n",
    "Label | Description\n",
    "----------|---------------\n",
    "`project_is_approved` | A binary flag indicating whether DonorsChoose approved the project. A value of `0` indicates the project was not approved, and a value of `1` indicates the project was approved."
   ]
  },
  {
   "cell_type": "markdown",
   "metadata": {},
   "source": [
    "### Notes on the Essay Data\n",
    "\n",
    "<ul>\n",
    "Prior to May 17, 2016, the prompts for the essays were as follows:\n",
    "<li>__project_essay_1:__ \"Introduce us to your classroom\"</li>\n",
    "<li>__project_essay_2:__ \"Tell us more about your students\"</li>\n",
    "<li>__project_essay_3:__ \"Describe how your students will use the materials you're requesting\"</li>\n",
    "<li>__project_essay_3:__ \"Close by sharing why your project will make a difference\"</li>\n",
    "</ul>\n",
    "\n",
    "\n",
    "<ul>\n",
    "Starting on May 17, 2016, the number of essays was reduced from 4 to 2, and the prompts for the first 2 essays were changed to the following:<br>\n",
    "<li>__project_essay_1:__ \"Describe your students: What makes your students special? Specific details about their background, your neighborhood, and your school are all helpful.\"</li>\n",
    "<li>__project_essay_2:__ \"About your project: How will these materials make a difference in your students' learning and improve their school lives?\"</li>\n",
    "<br>For all projects with project_submitted_datetime of 2016-05-17 and later, the values of project_essay_3 and project_essay_4 will be NaN.\n",
    "</ul>\n"
   ]
  },
  {
   "cell_type": "code",
   "execution_count": 1,
   "metadata": {
    "collapsed": true
   },
   "outputs": [
    {
     "name": "stdout",
     "output_type": "stream",
     "text": [
      "[name: \"/device:CPU:0\"\n",
      "device_type: \"CPU\"\n",
      "memory_limit: 268435456\n",
      "locality {\n",
      "}\n",
      "incarnation: 18032180533371503542\n",
      ", name: \"/device:XLA_CPU:0\"\n",
      "device_type: \"XLA_CPU\"\n",
      "memory_limit: 17179869184\n",
      "locality {\n",
      "}\n",
      "incarnation: 8014868348575793440\n",
      "physical_device_desc: \"device: XLA_CPU device\"\n",
      ", name: \"/device:XLA_GPU:0\"\n",
      "device_type: \"XLA_GPU\"\n",
      "memory_limit: 17179869184\n",
      "locality {\n",
      "}\n",
      "incarnation: 1880933557731141894\n",
      "physical_device_desc: \"device: XLA_GPU device\"\n",
      ", name: \"/device:XLA_GPU:1\"\n",
      "device_type: \"XLA_GPU\"\n",
      "memory_limit: 17179869184\n",
      "locality {\n",
      "}\n",
      "incarnation: 11689859713215651237\n",
      "physical_device_desc: \"device: XLA_GPU device\"\n",
      ", name: \"/device:XLA_GPU:2\"\n",
      "device_type: \"XLA_GPU\"\n",
      "memory_limit: 17179869184\n",
      "locality {\n",
      "}\n",
      "incarnation: 8369225144983620246\n",
      "physical_device_desc: \"device: XLA_GPU device\"\n",
      ", name: \"/device:XLA_GPU:3\"\n",
      "device_type: \"XLA_GPU\"\n",
      "memory_limit: 17179869184\n",
      "locality {\n",
      "}\n",
      "incarnation: 8335323029137317614\n",
      "physical_device_desc: \"device: XLA_GPU device\"\n",
      ", name: \"/device:GPU:0\"\n",
      "device_type: \"GPU\"\n",
      "memory_limit: 15848577434\n",
      "locality {\n",
      "  bus_id: 1\n",
      "  links {\n",
      "    link {\n",
      "      device_id: 1\n",
      "      type: \"StreamExecutor\"\n",
      "      strength: 1\n",
      "    }\n",
      "  }\n",
      "}\n",
      "incarnation: 3200790217356306354\n",
      "physical_device_desc: \"device: 0, name: Tesla P100-PCIE-16GB, pci bus id: 0000:00:04.0, compute capability: 6.0\"\n",
      ", name: \"/device:GPU:1\"\n",
      "device_type: \"GPU\"\n",
      "memory_limit: 15848577434\n",
      "locality {\n",
      "  bus_id: 1\n",
      "  links {\n",
      "    link {\n",
      "      type: \"StreamExecutor\"\n",
      "      strength: 1\n",
      "    }\n",
      "  }\n",
      "}\n",
      "incarnation: 9862088046218290762\n",
      "physical_device_desc: \"device: 1, name: Tesla P100-PCIE-16GB, pci bus id: 0000:00:05.0, compute capability: 6.0\"\n",
      ", name: \"/device:GPU:2\"\n",
      "device_type: \"GPU\"\n",
      "memory_limit: 15848577434\n",
      "locality {\n",
      "  bus_id: 1\n",
      "  links {\n",
      "    link {\n",
      "      device_id: 3\n",
      "      type: \"StreamExecutor\"\n",
      "      strength: 1\n",
      "    }\n",
      "  }\n",
      "}\n",
      "incarnation: 2454658963760601738\n",
      "physical_device_desc: \"device: 2, name: Tesla P100-PCIE-16GB, pci bus id: 0000:00:06.0, compute capability: 6.0\"\n",
      ", name: \"/device:GPU:3\"\n",
      "device_type: \"GPU\"\n",
      "memory_limit: 15848577434\n",
      "locality {\n",
      "  bus_id: 1\n",
      "  links {\n",
      "    link {\n",
      "      device_id: 2\n",
      "      type: \"StreamExecutor\"\n",
      "      strength: 1\n",
      "    }\n",
      "  }\n",
      "}\n",
      "incarnation: 15635732684892101287\n",
      "physical_device_desc: \"device: 3, name: Tesla P100-PCIE-16GB, pci bus id: 0000:00:07.0, compute capability: 6.0\"\n",
      "]\n"
     ]
    }
   ],
   "source": [
    "from tensorflow.python.client import device_lib\n",
    "print(device_lib.list_local_devices())"
   ]
  },
  {
   "cell_type": "code",
   "execution_count": 1,
   "metadata": {},
   "outputs": [],
   "source": [
    "%matplotlib inline\n",
    "import warnings\n",
    "warnings.filterwarnings(\"ignore\")\n",
    "\n",
    "import pandas as pd\n",
    "import numpy as np\n",
    "from sklearn.feature_extraction.text import TfidfVectorizer\n",
    "from sklearn.feature_extraction.text import CountVectorizer\n",
    "\n",
    "\n",
    "import re\n",
    "# Tutorial about Python regular expressions: https://pymotw.com/2/re/\n",
    "\n",
    "from nltk.corpus import stopwords\n",
    "import pickle\n",
    "\n",
    "from tqdm import tqdm\n",
    "import os"
   ]
  },
  {
   "cell_type": "markdown",
   "metadata": {},
   "source": [
    "## 1. Reading Data"
   ]
  },
  {
   "cell_type": "code",
   "execution_count": 2,
   "metadata": {},
   "outputs": [],
   "source": [
    "project_data = pd.read_csv('train_data.csv')\n",
    "resource_data = pd.read_csv('resources.csv')"
   ]
  },
  {
   "cell_type": "code",
   "execution_count": 3,
   "metadata": {},
   "outputs": [
    {
     "name": "stdout",
     "output_type": "stream",
     "text": [
      "Number of data points in train data (109248, 17)\n",
      "--------------------------------------------------\n",
      "The attributes of data : ['Unnamed: 0' 'id' 'teacher_id' 'teacher_prefix' 'school_state'\n",
      " 'project_submitted_datetime' 'project_grade_category'\n",
      " 'project_subject_categories' 'project_subject_subcategories'\n",
      " 'project_title' 'project_essay_1' 'project_essay_2' 'project_essay_3'\n",
      " 'project_essay_4' 'project_resource_summary'\n",
      " 'teacher_number_of_previously_posted_projects' 'project_is_approved']\n"
     ]
    }
   ],
   "source": [
    "print(\"Number of data points in train data\", project_data.shape)\n",
    "print('-'*50)\n",
    "print(\"The attributes of data :\", project_data.columns.values)"
   ]
  },
  {
   "cell_type": "code",
   "execution_count": 4,
   "metadata": {},
   "outputs": [
    {
     "name": "stdout",
     "output_type": "stream",
     "text": [
      "Number of data points in train data (1541272, 4)\n",
      "['id' 'description' 'quantity' 'price']\n"
     ]
    },
    {
     "data": {
      "text/html": [
       "<div>\n",
       "<style scoped>\n",
       "    .dataframe tbody tr th:only-of-type {\n",
       "        vertical-align: middle;\n",
       "    }\n",
       "\n",
       "    .dataframe tbody tr th {\n",
       "        vertical-align: top;\n",
       "    }\n",
       "\n",
       "    .dataframe thead th {\n",
       "        text-align: right;\n",
       "    }\n",
       "</style>\n",
       "<table border=\"1\" class=\"dataframe\">\n",
       "  <thead>\n",
       "    <tr style=\"text-align: right;\">\n",
       "      <th></th>\n",
       "      <th>id</th>\n",
       "      <th>description</th>\n",
       "      <th>quantity</th>\n",
       "      <th>price</th>\n",
       "    </tr>\n",
       "  </thead>\n",
       "  <tbody>\n",
       "    <tr>\n",
       "      <th>0</th>\n",
       "      <td>p233245</td>\n",
       "      <td>LC652 - Lakeshore Double-Space Mobile Drying Rack</td>\n",
       "      <td>1</td>\n",
       "      <td>149.00</td>\n",
       "    </tr>\n",
       "    <tr>\n",
       "      <th>1</th>\n",
       "      <td>p069063</td>\n",
       "      <td>Bouncy Bands for Desks (Blue support pipes)</td>\n",
       "      <td>3</td>\n",
       "      <td>14.95</td>\n",
       "    </tr>\n",
       "  </tbody>\n",
       "</table>\n",
       "</div>"
      ],
      "text/plain": [
       "        id                                        description  quantity  \\\n",
       "0  p233245  LC652 - Lakeshore Double-Space Mobile Drying Rack         1   \n",
       "1  p069063        Bouncy Bands for Desks (Blue support pipes)         3   \n",
       "\n",
       "    price  \n",
       "0  149.00  \n",
       "1   14.95  "
      ]
     },
     "execution_count": 4,
     "metadata": {},
     "output_type": "execute_result"
    }
   ],
   "source": [
    "print(\"Number of data points in train data\", resource_data.shape)\n",
    "print(resource_data.columns.values)\n",
    "resource_data.head(2)"
   ]
  },
  {
   "cell_type": "markdown",
   "metadata": {},
   "source": [
    "# 2. Preprocessing Categorical Features: project_grade_category"
   ]
  },
  {
   "cell_type": "code",
   "execution_count": 5,
   "metadata": {},
   "outputs": [
    {
     "data": {
      "text/plain": [
       "Grades PreK-2    44225\n",
       "Grades 3-5       37137\n",
       "Grades 6-8       16923\n",
       "Grades 9-12      10963\n",
       "Name: project_grade_category, dtype: int64"
      ]
     },
     "execution_count": 5,
     "metadata": {},
     "output_type": "execute_result"
    }
   ],
   "source": [
    "project_data['project_grade_category'].value_counts()"
   ]
  },
  {
   "cell_type": "markdown",
   "metadata": {},
   "source": [
    "we need to remove the spaces, replace the '-' with '_' and convert all the letters to small"
   ]
  },
  {
   "cell_type": "code",
   "execution_count": 6,
   "metadata": {},
   "outputs": [
    {
     "data": {
      "text/plain": [
       "grades_prek_2    44225\n",
       "grades_3_5       37137\n",
       "grades_6_8       16923\n",
       "grades_9_12      10963\n",
       "Name: project_grade_category, dtype: int64"
      ]
     },
     "execution_count": 6,
     "metadata": {},
     "output_type": "execute_result"
    }
   ],
   "source": [
    "# https://stackoverflow.com/questions/36383821/pandas-dataframe-apply-function-to-column-strings-based-on-other-column-value\n",
    "project_data['project_grade_category'] = project_data['project_grade_category'].str.replace(' ','_')\n",
    "project_data['project_grade_category'] = project_data['project_grade_category'].str.replace('-','_')\n",
    "project_data['project_grade_category'] = project_data['project_grade_category'].str.lower()\n",
    "project_data['project_grade_category'].value_counts()"
   ]
  },
  {
   "cell_type": "markdown",
   "metadata": {},
   "source": [
    "# 3. Preprocessing Categorical Features: project_subject_categories"
   ]
  },
  {
   "cell_type": "code",
   "execution_count": 7,
   "metadata": {
    "scrolled": true
   },
   "outputs": [
    {
     "data": {
      "text/plain": [
       "Literacy & Language                           23655\n",
       "Math & Science                                17072\n",
       "Literacy & Language, Math & Science           14636\n",
       "Health & Sports                               10177\n",
       "Music & The Arts                               5180\n",
       "Special Needs                                  4226\n",
       "Literacy & Language, Special Needs             3961\n",
       "Applied Learning                               3771\n",
       "Math & Science, Literacy & Language            2289\n",
       "Applied Learning, Literacy & Language          2191\n",
       "History & Civics                               1851\n",
       "Math & Science, Special Needs                  1840\n",
       "Literacy & Language, Music & The Arts          1757\n",
       "Math & Science, Music & The Arts               1642\n",
       "Applied Learning, Special Needs                1467\n",
       "History & Civics, Literacy & Language          1421\n",
       "Health & Sports, Special Needs                 1391\n",
       "Warmth, Care & Hunger                          1309\n",
       "Math & Science, Applied Learning               1220\n",
       "Applied Learning, Math & Science               1052\n",
       "Literacy & Language, History & Civics           809\n",
       "Health & Sports, Literacy & Language            803\n",
       "Applied Learning, Music & The Arts              758\n",
       "Math & Science, History & Civics                652\n",
       "Literacy & Language, Applied Learning           636\n",
       "Applied Learning, Health & Sports               608\n",
       "Math & Science, Health & Sports                 414\n",
       "History & Civics, Math & Science                322\n",
       "History & Civics, Music & The Arts              312\n",
       "Special Needs, Music & The Arts                 302\n",
       "Health & Sports, Math & Science                 271\n",
       "History & Civics, Special Needs                 252\n",
       "Health & Sports, Applied Learning               192\n",
       "Applied Learning, History & Civics              178\n",
       "Health & Sports, Music & The Arts               155\n",
       "Music & The Arts, Special Needs                 138\n",
       "Literacy & Language, Health & Sports             72\n",
       "Health & Sports, History & Civics                43\n",
       "History & Civics, Applied Learning               42\n",
       "Special Needs, Health & Sports                   42\n",
       "Special Needs, Warmth, Care & Hunger             23\n",
       "Health & Sports, Warmth, Care & Hunger           23\n",
       "Music & The Arts, Health & Sports                19\n",
       "Music & The Arts, History & Civics               18\n",
       "History & Civics, Health & Sports                13\n",
       "Math & Science, Warmth, Care & Hunger            11\n",
       "Music & The Arts, Applied Learning               10\n",
       "Applied Learning, Warmth, Care & Hunger          10\n",
       "Literacy & Language, Warmth, Care & Hunger        9\n",
       "Music & The Arts, Warmth, Care & Hunger           2\n",
       "History & Civics, Warmth, Care & Hunger           1\n",
       "Name: project_subject_categories, dtype: int64"
      ]
     },
     "execution_count": 7,
     "metadata": {},
     "output_type": "execute_result"
    }
   ],
   "source": [
    "project_data['project_subject_categories'].value_counts()"
   ]
  },
  {
   "cell_type": "markdown",
   "metadata": {},
   "source": [
    ">remove spaces, 'the' <br>\n",
    "replace '&' with '\\_', and ',' with '_'"
   ]
  },
  {
   "cell_type": "code",
   "execution_count": 8,
   "metadata": {
    "scrolled": true
   },
   "outputs": [
    {
     "data": {
      "text/plain": [
       "literacy_language                       23655\n",
       "math_science                            17072\n",
       "literacy_language_math_science          14636\n",
       "health_sports                           10177\n",
       "music_arts                               5180\n",
       "specialneeds                             4226\n",
       "literacy_language_specialneeds           3961\n",
       "appliedlearning                          3771\n",
       "math_science_literacy_language           2289\n",
       "appliedlearning_literacy_language        2191\n",
       "history_civics                           1851\n",
       "math_science_specialneeds                1840\n",
       "literacy_language_music_arts             1757\n",
       "math_science_music_arts                  1642\n",
       "appliedlearning_specialneeds             1467\n",
       "history_civics_literacy_language         1421\n",
       "health_sports_specialneeds               1391\n",
       "warmth_care_hunger                       1309\n",
       "math_science_appliedlearning             1220\n",
       "appliedlearning_math_science             1052\n",
       "literacy_language_history_civics          809\n",
       "health_sports_literacy_language           803\n",
       "appliedlearning_music_arts                758\n",
       "math_science_history_civics               652\n",
       "literacy_language_appliedlearning         636\n",
       "appliedlearning_health_sports             608\n",
       "math_science_health_sports                414\n",
       "history_civics_math_science               322\n",
       "history_civics_music_arts                 312\n",
       "specialneeds_music_arts                   302\n",
       "health_sports_math_science                271\n",
       "history_civics_specialneeds               252\n",
       "health_sports_appliedlearning             192\n",
       "appliedlearning_history_civics            178\n",
       "health_sports_music_arts                  155\n",
       "music_arts_specialneeds                   138\n",
       "literacy_language_health_sports            72\n",
       "health_sports_history_civics               43\n",
       "specialneeds_health_sports                 42\n",
       "history_civics_appliedlearning             42\n",
       "health_sports_warmth_care_hunger           23\n",
       "specialneeds_warmth_care_hunger            23\n",
       "music_arts_health_sports                   19\n",
       "music_arts_history_civics                  18\n",
       "history_civics_health_sports               13\n",
       "math_science_warmth_care_hunger            11\n",
       "appliedlearning_warmth_care_hunger         10\n",
       "music_arts_appliedlearning                 10\n",
       "literacy_language_warmth_care_hunger        9\n",
       "music_arts_warmth_care_hunger               2\n",
       "history_civics_warmth_care_hunger           1\n",
       "Name: project_subject_categories, dtype: int64"
      ]
     },
     "execution_count": 8,
     "metadata": {},
     "output_type": "execute_result"
    }
   ],
   "source": [
    "project_data['project_subject_categories'] = project_data['project_subject_categories'].str.replace(' The ','')\n",
    "project_data['project_subject_categories'] = project_data['project_subject_categories'].str.replace(' ','')\n",
    "project_data['project_subject_categories'] = project_data['project_subject_categories'].str.replace('&','_')\n",
    "project_data['project_subject_categories'] = project_data['project_subject_categories'].str.replace(',','_')\n",
    "project_data['project_subject_categories'] = project_data['project_subject_categories'].str.lower()\n",
    "project_data['project_subject_categories'].value_counts()"
   ]
  },
  {
   "cell_type": "markdown",
   "metadata": {},
   "source": [
    "# 4. Preprocessing Categorical Features: teacher_prefix"
   ]
  },
  {
   "cell_type": "code",
   "execution_count": 9,
   "metadata": {},
   "outputs": [
    {
     "data": {
      "text/plain": [
       "Mrs.       57269\n",
       "Ms.        38955\n",
       "Mr.        10648\n",
       "Teacher     2360\n",
       "Dr.           13\n",
       "Name: teacher_prefix, dtype: int64"
      ]
     },
     "execution_count": 9,
     "metadata": {},
     "output_type": "execute_result"
    }
   ],
   "source": [
    "project_data['teacher_prefix'].value_counts()"
   ]
  },
  {
   "cell_type": "code",
   "execution_count": 10,
   "metadata": {},
   "outputs": [
    {
     "name": "stdout",
     "output_type": "stream",
     "text": [
      "True\n",
      "number of nan values 3\n"
     ]
    }
   ],
   "source": [
    "# check if we have any nan values are there\n",
    "print(project_data['teacher_prefix'].isnull().values.any())\n",
    "print(\"number of nan values\",project_data['teacher_prefix'].isnull().values.sum())"
   ]
  },
  {
   "cell_type": "markdown",
   "metadata": {},
   "source": [
    ">numebr of missing values are very less in number, we can replace it with Mrs. as most of the projects are submitted by Mrs."
   ]
  },
  {
   "cell_type": "code",
   "execution_count": 11,
   "metadata": {},
   "outputs": [],
   "source": [
    "project_data['teacher_prefix']=project_data['teacher_prefix'].fillna('Mrs.')"
   ]
  },
  {
   "cell_type": "code",
   "execution_count": 12,
   "metadata": {},
   "outputs": [
    {
     "data": {
      "text/plain": [
       "Mrs.       57272\n",
       "Ms.        38955\n",
       "Mr.        10648\n",
       "Teacher     2360\n",
       "Dr.           13\n",
       "Name: teacher_prefix, dtype: int64"
      ]
     },
     "execution_count": 12,
     "metadata": {},
     "output_type": "execute_result"
    }
   ],
   "source": [
    "project_data['teacher_prefix'].value_counts()"
   ]
  },
  {
   "cell_type": "markdown",
   "metadata": {},
   "source": [
    ">Remove '.' <br>\n",
    ">convert all the chars to small"
   ]
  },
  {
   "cell_type": "code",
   "execution_count": 13,
   "metadata": {},
   "outputs": [
    {
     "data": {
      "text/plain": [
       "mrs        57272\n",
       "ms         38955\n",
       "mr         10648\n",
       "teacher     2360\n",
       "dr            13\n",
       "Name: teacher_prefix, dtype: int64"
      ]
     },
     "execution_count": 13,
     "metadata": {},
     "output_type": "execute_result"
    }
   ],
   "source": [
    "project_data['teacher_prefix'] = project_data['teacher_prefix'].str.replace('.','')\n",
    "project_data['teacher_prefix'] = project_data['teacher_prefix'].str.lower()\n",
    "project_data['teacher_prefix'].value_counts()"
   ]
  },
  {
   "cell_type": "markdown",
   "metadata": {},
   "source": [
    "# 5. Preprocessing Categorical Features: project_subject_subcategories"
   ]
  },
  {
   "cell_type": "code",
   "execution_count": 14,
   "metadata": {
    "scrolled": true
   },
   "outputs": [
    {
     "data": {
      "text/plain": [
       "Literacy                                      9486\n",
       "Literacy, Mathematics                         8325\n",
       "Literature & Writing, Mathematics             5923\n",
       "Literacy, Literature & Writing                5571\n",
       "Mathematics                                   5379\n",
       "                                              ... \n",
       "Gym & Fitness, Parent Involvement                1\n",
       "Other, Warmth, Care & Hunger                     1\n",
       "Community Service, Gym & Fitness                 1\n",
       "History & Geography, Warmth, Care & Hunger       1\n",
       "Gym & Fitness, Warmth, Care & Hunger             1\n",
       "Name: project_subject_subcategories, Length: 401, dtype: int64"
      ]
     },
     "execution_count": 14,
     "metadata": {},
     "output_type": "execute_result"
    }
   ],
   "source": [
    "project_data['project_subject_subcategories'].value_counts()"
   ]
  },
  {
   "cell_type": "markdown",
   "metadata": {},
   "source": [
    "> same process we did in project_subject_categories"
   ]
  },
  {
   "cell_type": "code",
   "execution_count": 15,
   "metadata": {
    "scrolled": true
   },
   "outputs": [
    {
     "data": {
      "text/plain": [
       "literacy                                9486\n",
       "literacy_mathematics                    8325\n",
       "literature_writing_mathematics          5923\n",
       "literacy_literature_writing             5571\n",
       "mathematics                             5379\n",
       "                                        ... \n",
       "esl_economics                              1\n",
       "economics_music                            1\n",
       "civics_government_foreignlanguages         1\n",
       "gym_fitness_parentinvolvement              1\n",
       "parentinvolvement_warmth_care_hunger       1\n",
       "Name: project_subject_subcategories, Length: 401, dtype: int64"
      ]
     },
     "execution_count": 15,
     "metadata": {},
     "output_type": "execute_result"
    }
   ],
   "source": [
    "project_data['project_subject_subcategories'] = project_data['project_subject_subcategories'].str.replace(' The ','')\n",
    "project_data['project_subject_subcategories'] = project_data['project_subject_subcategories'].str.replace(' ','')\n",
    "project_data['project_subject_subcategories'] = project_data['project_subject_subcategories'].str.replace('&','_')\n",
    "project_data['project_subject_subcategories'] = project_data['project_subject_subcategories'].str.replace(',','_')\n",
    "project_data['project_subject_subcategories'] = project_data['project_subject_subcategories'].str.lower()\n",
    "project_data['project_subject_subcategories'].value_counts()"
   ]
  },
  {
   "cell_type": "markdown",
   "metadata": {},
   "source": [
    "# 6. Preprocessing Categorical Features: school_state"
   ]
  },
  {
   "cell_type": "code",
   "execution_count": 16,
   "metadata": {
    "scrolled": true
   },
   "outputs": [
    {
     "data": {
      "text/plain": [
       "CA    15388\n",
       "TX     7396\n",
       "NY     7318\n",
       "FL     6185\n",
       "NC     5091\n",
       "IL     4350\n",
       "GA     3963\n",
       "SC     3936\n",
       "MI     3161\n",
       "PA     3109\n",
       "IN     2620\n",
       "MO     2576\n",
       "OH     2467\n",
       "LA     2394\n",
       "MA     2389\n",
       "WA     2334\n",
       "OK     2276\n",
       "NJ     2237\n",
       "AZ     2147\n",
       "VA     2045\n",
       "WI     1827\n",
       "AL     1762\n",
       "UT     1731\n",
       "TN     1688\n",
       "CT     1663\n",
       "MD     1514\n",
       "NV     1367\n",
       "MS     1323\n",
       "KY     1304\n",
       "OR     1242\n",
       "MN     1208\n",
       "CO     1111\n",
       "AR     1049\n",
       "ID      693\n",
       "IA      666\n",
       "KS      634\n",
       "NM      557\n",
       "DC      516\n",
       "HI      507\n",
       "ME      505\n",
       "WV      503\n",
       "NH      348\n",
       "AK      345\n",
       "DE      343\n",
       "NE      309\n",
       "SD      300\n",
       "RI      285\n",
       "MT      245\n",
       "ND      143\n",
       "WY       98\n",
       "VT       80\n",
       "Name: school_state, dtype: int64"
      ]
     },
     "execution_count": 16,
     "metadata": {},
     "output_type": "execute_result"
    }
   ],
   "source": [
    "project_data['school_state'].value_counts()"
   ]
  },
  {
   "cell_type": "markdown",
   "metadata": {},
   "source": [
    ">convert all of them into small letters"
   ]
  },
  {
   "cell_type": "code",
   "execution_count": 17,
   "metadata": {
    "scrolled": true
   },
   "outputs": [
    {
     "data": {
      "text/plain": [
       "ca    15388\n",
       "tx     7396\n",
       "ny     7318\n",
       "fl     6185\n",
       "nc     5091\n",
       "il     4350\n",
       "ga     3963\n",
       "sc     3936\n",
       "mi     3161\n",
       "pa     3109\n",
       "in     2620\n",
       "mo     2576\n",
       "oh     2467\n",
       "la     2394\n",
       "ma     2389\n",
       "wa     2334\n",
       "ok     2276\n",
       "nj     2237\n",
       "az     2147\n",
       "va     2045\n",
       "wi     1827\n",
       "al     1762\n",
       "ut     1731\n",
       "tn     1688\n",
       "ct     1663\n",
       "md     1514\n",
       "nv     1367\n",
       "ms     1323\n",
       "ky     1304\n",
       "or     1242\n",
       "mn     1208\n",
       "co     1111\n",
       "ar     1049\n",
       "id      693\n",
       "ia      666\n",
       "ks      634\n",
       "nm      557\n",
       "dc      516\n",
       "hi      507\n",
       "me      505\n",
       "wv      503\n",
       "nh      348\n",
       "ak      345\n",
       "de      343\n",
       "ne      309\n",
       "sd      300\n",
       "ri      285\n",
       "mt      245\n",
       "nd      143\n",
       "wy       98\n",
       "vt       80\n",
       "Name: school_state, dtype: int64"
      ]
     },
     "execution_count": 17,
     "metadata": {},
     "output_type": "execute_result"
    }
   ],
   "source": [
    "project_data['school_state'] = project_data['school_state'].str.lower()\n",
    "project_data['school_state'].value_counts()"
   ]
  },
  {
   "cell_type": "markdown",
   "metadata": {},
   "source": [
    "# 7. Preprocessing Categorical Features: project_title"
   ]
  },
  {
   "cell_type": "code",
   "execution_count": 18,
   "metadata": {},
   "outputs": [],
   "source": [
    "# https://stackoverflow.com/a/47091490/4084039\n",
    "import re\n",
    "\n",
    "def decontracted(phrase):\n",
    "    # specific\n",
    "    phrase = re.sub(r\"won't\", \"will not\", phrase)\n",
    "    phrase = re.sub(r\"can\\'t\", \"can not\", phrase)\n",
    "\n",
    "    # general\n",
    "    phrase = re.sub(r\"n\\'t\", \" not\", phrase)\n",
    "    phrase = re.sub(r\"\\'re\", \" are\", phrase)\n",
    "    phrase = re.sub(r\"\\'s\", \" is\", phrase)\n",
    "    phrase = re.sub(r\"\\'d\", \" would\", phrase)\n",
    "    phrase = re.sub(r\"\\'ll\", \" will\", phrase)\n",
    "    phrase = re.sub(r\"\\'t\", \" not\", phrase)\n",
    "    phrase = re.sub(r\"\\'ve\", \" have\", phrase)\n",
    "    phrase = re.sub(r\"\\'m\", \" am\", phrase)\n",
    "    return phrase"
   ]
  },
  {
   "cell_type": "code",
   "execution_count": 19,
   "metadata": {},
   "outputs": [],
   "source": [
    "# https://gist.github.com/sebleier/554280\n",
    "# we are removing the words from the stop words list: 'no', 'nor', 'not'\n",
    "stopwords= ['i', 'me', 'my', 'myself', 'we', 'our', 'ours', 'ourselves', 'you', \"you're\", \"you've\",\\\n",
    "            \"you'll\", \"you'd\", 'your', 'yours', 'yourself', 'yourselves', 'he', 'him', 'his', 'himself', \\\n",
    "            'she', \"she's\", 'her', 'hers', 'herself', 'it', \"it's\", 'its', 'itself', 'they', 'them', 'their',\\\n",
    "            'theirs', 'themselves', 'what', 'which', 'who', 'whom', 'this', 'that', \"that'll\", 'these', 'those', \\\n",
    "            'am', 'is', 'are', 'was', 'were', 'be', 'been', 'being', 'have', 'has', 'had', 'having', 'do', 'does', \\\n",
    "            'did', 'doing', 'a', 'an', 'the', 'and', 'but', 'if', 'or', 'because', 'as', 'until', 'while', 'of', \\\n",
    "            'at', 'by', 'for', 'with', 'about', 'against', 'between', 'into', 'through', 'during', 'before', 'after',\\\n",
    "            'above', 'below', 'to', 'from', 'up', 'down', 'in', 'out', 'on', 'off', 'over', 'under', 'again', 'further',\\\n",
    "            'then', 'once', 'here', 'there', 'when', 'where', 'why', 'how', 'all', 'any', 'both', 'each', 'few', 'more',\\\n",
    "            'most', 'other', 'some', 'such', 'only', 'own', 'same', 'so', 'than', 'too', 'very', \\\n",
    "            's', 't', 'can', 'will', 'just', 'don', \"don't\", 'should', \"should've\", 'now', 'd', 'll', 'm', 'o', 're', \\\n",
    "            've', 'y', 'ain', 'aren', \"aren't\", 'couldn', \"couldn't\", 'didn', \"didn't\", 'doesn', \"doesn't\", 'hadn',\\\n",
    "            \"hadn't\", 'hasn', \"hasn't\", 'haven', \"haven't\", 'isn', \"isn't\", 'ma', 'mightn', \"mightn't\", 'mustn',\\\n",
    "            \"mustn't\", 'needn', \"needn't\", 'shan', \"shan't\", 'shouldn', \"shouldn't\", 'wasn', \"wasn't\", 'weren', \"weren't\", \\\n",
    "            'won', \"won't\", 'wouldn', \"wouldn't\"]"
   ]
  },
  {
   "cell_type": "code",
   "execution_count": 20,
   "metadata": {},
   "outputs": [
    {
     "data": {
      "text/plain": [
       "0     Educational Support for English Learners at Home\n",
       "1                Wanted: Projector for Hungry Learners\n",
       "2    Soccer Equipment for AWESOME Middle School Stu...\n",
       "3                               Techie Kindergarteners\n",
       "4                               Interactive Math Tools\n",
       "Name: project_title, dtype: object"
      ]
     },
     "execution_count": 20,
     "metadata": {},
     "output_type": "execute_result"
    }
   ],
   "source": [
    "project_data['project_title'].head(5)"
   ]
  },
  {
   "cell_type": "code",
   "execution_count": 21,
   "metadata": {},
   "outputs": [
    {
     "name": "stdout",
     "output_type": "stream",
     "text": [
      "printing some random reviews\n",
      "9 Just For the Love of Reading--\\r\\nPure Pleasure\n",
      "34 \\\"Have A Ball!!!\\\"\n",
      "147 Who needs a Chromebook?\\r\\nWE DO!!\n"
     ]
    }
   ],
   "source": [
    "print(\"printing some random reviews\")\n",
    "print(9, project_data['project_title'].values[9])\n",
    "print(34, project_data['project_title'].values[34])\n",
    "print(147, project_data['project_title'].values[147])"
   ]
  },
  {
   "cell_type": "code",
   "execution_count": 22,
   "metadata": {},
   "outputs": [],
   "source": [
    "# Combining all the above stundents \n",
    "from tqdm import tqdm\n",
    "def preprocess_text(text_data):\n",
    "    preprocessed_text = []\n",
    "    # tqdm is for printing the status bar\n",
    "    for sentance in tqdm(text_data):\n",
    "        sent = decontracted(sentance)\n",
    "        sent = sent.replace('\\\\r', ' ')\n",
    "        sent = sent.replace('\\\\n', ' ')\n",
    "        sent = sent.replace('\\\\\"', ' ')\n",
    "        sent = re.sub('[^A-Za-z0-9]+', ' ', sent)\n",
    "        # https://gist.github.com/sebleier/554280\n",
    "        sent = ' '.join(e for e in sent.split() if e.lower() not in stopwords)\n",
    "        preprocessed_text.append(sent.lower().strip())\n",
    "    return preprocessed_text"
   ]
  },
  {
   "cell_type": "code",
   "execution_count": 23,
   "metadata": {},
   "outputs": [
    {
     "name": "stderr",
     "output_type": "stream",
     "text": [
      "100%|██████████| 109248/109248 [00:02<00:00, 41955.24it/s]\n"
     ]
    }
   ],
   "source": [
    "preprocessed_titles = preprocess_text(project_data['project_title'].values)"
   ]
  },
  {
   "cell_type": "code",
   "execution_count": 24,
   "metadata": {},
   "outputs": [
    {
     "name": "stdout",
     "output_type": "stream",
     "text": [
      "printing some random reviews\n",
      "9 love reading pure pleasure\n",
      "34 ball\n",
      "147 needs chromebook\n"
     ]
    }
   ],
   "source": [
    "print(\"printing some random reviews\")\n",
    "print(9, preprocessed_titles[9])\n",
    "print(34, preprocessed_titles[34])\n",
    "print(147, preprocessed_titles[147])"
   ]
  },
  {
   "cell_type": "markdown",
   "metadata": {},
   "source": [
    "# 8. Preprocessing Categorical Features: essay"
   ]
  },
  {
   "cell_type": "code",
   "execution_count": 25,
   "metadata": {},
   "outputs": [],
   "source": [
    "# merge two column text dataframe: \n",
    "project_data[\"essay\"] = project_data[\"project_essay_1\"].map(str) +\\\n",
    "                        project_data[\"project_essay_2\"].map(str) + \\\n",
    "                        project_data[\"project_essay_3\"].map(str) + \\\n",
    "                        project_data[\"project_essay_4\"].map(str)"
   ]
  },
  {
   "cell_type": "code",
   "execution_count": 26,
   "metadata": {
    "scrolled": true
   },
   "outputs": [
    {
     "name": "stdout",
     "output_type": "stream",
     "text": [
      "printing some random essay\n",
      "9 Over 95% of my students are on free or reduced lunch.  I have a few who are homeless, but despite that, they come to school with an eagerness to learn.  My students are inquisitive eager learners who  embrace the challenge of not having great books and other resources  every day.  Many of them are not afforded the opportunity to engage with these big colorful pages of a book on a regular basis at home and they don't travel to the public library.  \\r\\nIt is my duty as a teacher to do all I can to provide each student an opportunity to succeed in every aspect of life. \\r\\nReading is Fundamental! My students will read these books over and over again while boosting their comprehension skills. These books will be used for read alouds, partner reading and for Independent reading. \\r\\nThey will engage in reading to build their \\\"Love for Reading\\\" by reading for pure enjoyment. They will be introduced to some new authors as well as some old favorites. I want my students to be ready for the 21st Century and know the pleasure of holding a good hard back book in hand. There's nothing like a good book to read!  \\r\\nMy students will soar in Reading, and more because of your consideration and generous funding contribution. This will help build stamina and prepare for 3rd grade. Thank you so much for reading our proposal!nannan\n",
      "--------------------------------------------------\n",
      "34 My students mainly come from extremely low-income families, and the majority of them come from homes where both parents work full time. Most of my students are at school from 7:30 am to 6:00 pm (2:30 to 6:00 pm in the after-school program), and they all receive free and reduced meals for breakfast and lunch. \\r\\n\\r\\n\\r\\nI want my students to feel  as comfortable in my classroom as they do at home. Many of my students take on multiple roles both at home as well as in school. They are sometimes the caretakers of younger siblings, cooks, babysitters, academics, friends, and most of all, they are developing who they are going to become as adults.  I consider it an essential part of my job to model helping others gain knowledge in a positive manner. As a result, I have a community of students who love helping each other in and outside of the classroom. They consistently look for opportunities to support each other's learning in a kind and helpful way.I am excited to be experimenting with alternative seating in my classroom this school year. Studies have shown that giving students the option of where they sit in a classroom increases focus as well as motivation.  \\r\\n\\r\\nBy allowing students choice in the classroom, they are able to explore and create in a welcoming environment. Alternative classroom seating has been experimented with more frequently in recent years. I believe (along with many others), that every child learns differently. This does not only apply to how multiplication is memorized, or a paper is written, but applies to the space in which they are asked to work. I have had students in the past ask \\\"Can I work in the library? Can I work on the carpet?\\\" My answer was always, \\\"As long as you're learning, you can work wherever you want!\\\" \\r\\n\\r\\nWith the yoga balls and the lap-desks, I will be able to increase the options for seating in my classroom and expand its imaginable space.nannan\n",
      "--------------------------------------------------\n",
      "147 My students are eager to learn and make their mark on the world.\\r\\n\\r\\nThey come from a Title 1 school and need extra love.\\r\\n\\r\\nMy fourth grade students are in a high poverty area and still come to school every day to get their education. I am trying to make it fun and educational for them so they can get the most out of their schooling. I created a caring environment for the students to bloom! They deserve the best.\\r\\nThank you!\\r\\nI am requesting 1 Chromebook to access online interventions, differentiate instruction, and get extra practice. The Chromebook will be used to supplement ELA and math instruction. Students will play ELA and math games that are engaging and fun, as well as participate in assignments online. This in turn will help my students improve their skills. Having a Chromebook in the classroom would not only allow students to use the programs at their own pace, but would ensure more students are getting adequate time to use the programs. The online programs have been especially beneficial to my students with special needs. They are able to work at their level as well as be challenged with some different materials. This is making these students more confident in their abilities.\\r\\n\\r\\nThe Chromebook would allow my students to have daily access to computers and increase their computing skills.\\r\\nThis will change their lives for the better as they become more successful in school. Having access to technology in the classroom would help bridge the achievement gap.nannan\n"
     ]
    }
   ],
   "source": [
    "print(\"printing some random essay\")\n",
    "print(9, project_data['essay'].values[9])\n",
    "print('-'*50)\n",
    "print(34, project_data['essay'].values[34])\n",
    "print('-'*50)\n",
    "print(147, project_data['essay'].values[147])"
   ]
  },
  {
   "cell_type": "code",
   "execution_count": 27,
   "metadata": {},
   "outputs": [
    {
     "name": "stderr",
     "output_type": "stream",
     "text": [
      "100%|██████████| 109248/109248 [01:01<00:00, 1766.85it/s]\n"
     ]
    }
   ],
   "source": [
    "preprocessed_essays = preprocess_text(project_data['essay'].values)"
   ]
  },
  {
   "cell_type": "code",
   "execution_count": 28,
   "metadata": {
    "scrolled": true
   },
   "outputs": [
    {
     "name": "stdout",
     "output_type": "stream",
     "text": [
      "printing some random essay\n",
      "9 95 students free reduced lunch homeless despite come school eagerness learn students inquisitive eager learners embrace challenge not great books resources every day many not afforded opportunity engage big colorful pages book regular basis home not travel public library duty teacher provide student opportunity succeed every aspect life reading fundamental students read books boosting comprehension skills books used read alouds partner reading independent reading engage reading build love reading reading pure enjoyment introduced new authors well old favorites want students ready 21st century know pleasure holding good hard back book hand nothing like good book read students soar reading consideration generous funding contribution help build stamina prepare 3rd grade thank much reading proposal nannan\n",
      "--------------------------------------------------\n",
      "34 students mainly come extremely low income families majority come homes parents work full time students school 7 30 6 00 pm 2 30 6 00 pm school program receive free reduced meals breakfast lunch want students feel comfortable classroom home many students take multiple roles home well school sometimes caretakers younger siblings cooks babysitters academics friends developing going become adults consider essential part job model helping others gain knowledge positive manner result community students love helping outside classroom consistently look opportunities support learning kind helpful way excited experimenting alternative seating classroom school year studies shown giving students option sit classroom increases focus well motivation allowing students choice classroom able explore create welcoming environment alternative classroom seating experimented frequently recent years believe along many others every child learns differently not apply multiplication memorized paper written applies space asked work students past ask work library work carpet answer always long learning work wherever want yoga balls lap desks able increase options seating classroom expand imaginable space nannan\n",
      "--------------------------------------------------\n",
      "147 students eager learn make mark world come title 1 school need extra love fourth grade students high poverty area still come school every day get education trying make fun educational get schooling created caring environment students bloom deserve best thank requesting 1 chromebook access online interventions differentiate instruction get extra practice chromebook used supplement ela math instruction students play ela math games engaging fun well participate assignments online turn help students improve skills chromebook classroom would not allow students use programs pace would ensure students getting adequate time use programs online programs especially beneficial students special needs able work level well challenged different materials making students confident abilities chromebook would allow students daily access computers increase computing skills change lives better become successful school access technology classroom would help bridge achievement gap nannan\n"
     ]
    }
   ],
   "source": [
    "print(\"printing some random essay\")\n",
    "print(9, preprocessed_essays[9])\n",
    "print('-'*50)\n",
    "print(34, preprocessed_essays[34])\n",
    "print('-'*50)\n",
    "print(147, preprocessed_essays[147])"
   ]
  },
  {
   "cell_type": "markdown",
   "metadata": {},
   "source": [
    "# 8. Preprocessing Numerical Values: price"
   ]
  },
  {
   "cell_type": "code",
   "execution_count": 29,
   "metadata": {},
   "outputs": [
    {
     "data": {
      "text/html": [
       "<div>\n",
       "<style scoped>\n",
       "    .dataframe tbody tr th:only-of-type {\n",
       "        vertical-align: middle;\n",
       "    }\n",
       "\n",
       "    .dataframe tbody tr th {\n",
       "        vertical-align: top;\n",
       "    }\n",
       "\n",
       "    .dataframe thead th {\n",
       "        text-align: right;\n",
       "    }\n",
       "</style>\n",
       "<table border=\"1\" class=\"dataframe\">\n",
       "  <thead>\n",
       "    <tr style=\"text-align: right;\">\n",
       "      <th></th>\n",
       "      <th>id</th>\n",
       "      <th>quantity</th>\n",
       "      <th>price</th>\n",
       "    </tr>\n",
       "  </thead>\n",
       "  <tbody>\n",
       "    <tr>\n",
       "      <th>0</th>\n",
       "      <td>p000001</td>\n",
       "      <td>7</td>\n",
       "      <td>459.56</td>\n",
       "    </tr>\n",
       "    <tr>\n",
       "      <th>1</th>\n",
       "      <td>p000002</td>\n",
       "      <td>21</td>\n",
       "      <td>515.89</td>\n",
       "    </tr>\n",
       "  </tbody>\n",
       "</table>\n",
       "</div>"
      ],
      "text/plain": [
       "        id  quantity   price\n",
       "0  p000001         7  459.56\n",
       "1  p000002        21  515.89"
      ]
     },
     "execution_count": 29,
     "metadata": {},
     "output_type": "execute_result"
    }
   ],
   "source": [
    "# https://stackoverflow.com/questions/22407798/how-to-reset-a-dataframes-indexes-for-all-groups-in-one-step\n",
    "price_data = resource_data.groupby('id').agg({'price':'sum', 'quantity':'sum'}).reset_index()\n",
    "price_data.head(2)"
   ]
  },
  {
   "cell_type": "code",
   "execution_count": 30,
   "metadata": {},
   "outputs": [],
   "source": [
    "# join two dataframes in python: \n",
    "project_data = pd.merge(project_data, price_data, on='id', how='left')"
   ]
  },
  {
   "cell_type": "code",
   "execution_count": 31,
   "metadata": {},
   "outputs": [
    {
     "data": {
      "text/plain": [
       "0    154.60\n",
       "1    299.00\n",
       "2    516.85\n",
       "3    232.90\n",
       "4     67.98\n",
       "Name: price, dtype: float64"
      ]
     },
     "execution_count": 31,
     "metadata": {},
     "output_type": "execute_result"
    }
   ],
   "source": [
    "project_data['price'].head()"
   ]
  },
  {
   "cell_type": "markdown",
   "metadata": {},
   "source": [
    "## 8.1 applying StandardScaler"
   ]
  },
  {
   "cell_type": "code",
   "execution_count": 32,
   "metadata": {},
   "outputs": [],
   "source": [
    "from sklearn.preprocessing import StandardScaler\n",
    "scaler = StandardScaler()\n",
    "scaler.fit(project_data['price'].values.reshape(-1, 1))\n",
    "project_data['std_price']=scaler.transform(project_data['price'].values.reshape(-1, 1) )"
   ]
  },
  {
   "cell_type": "code",
   "execution_count": 33,
   "metadata": {
    "scrolled": true
   },
   "outputs": [
    {
     "data": {
      "text/plain": [
       "0   -0.390533\n",
       "1    0.002396\n",
       "2    0.595191\n",
       "3   -0.177469\n",
       "4   -0.626236\n",
       "Name: std_price, dtype: float64"
      ]
     },
     "execution_count": 33,
     "metadata": {},
     "output_type": "execute_result"
    }
   ],
   "source": [
    "project_data['std_price'].head()"
   ]
  },
  {
   "cell_type": "markdown",
   "metadata": {},
   "source": [
    "## 8.2 applying MinMaxScaler"
   ]
  },
  {
   "cell_type": "code",
   "execution_count": 34,
   "metadata": {},
   "outputs": [],
   "source": [
    "from sklearn.preprocessing import MinMaxScaler\n",
    "\n",
    "scaler = MinMaxScaler()\n",
    "scaler.fit(project_data['price'].values.reshape(-1, 1))\n",
    "project_data['nrm_price']=scaler.transform(project_data['price'].values.reshape(-1, 1))"
   ]
  },
  {
   "cell_type": "code",
   "execution_count": 35,
   "metadata": {},
   "outputs": [
    {
     "data": {
      "text/plain": [
       "0    0.015397\n",
       "1    0.029839\n",
       "2    0.051628\n",
       "3    0.023228\n",
       "4    0.006733\n",
       "Name: nrm_price, dtype: float64"
      ]
     },
     "execution_count": 35,
     "metadata": {},
     "output_type": "execute_result"
    }
   ],
   "source": [
    "project_data['nrm_price'].head()"
   ]
  },
  {
   "cell_type": "markdown",
   "metadata": {},
   "source": [
    "### Adding the train_data_numeric_feature_added.csv to the project data"
   ]
  },
  {
   "cell_type": "code",
   "execution_count": 36,
   "metadata": {},
   "outputs": [
    {
     "name": "stderr",
     "output_type": "stream",
     "text": [
      "Using TensorFlow backend.\n"
     ]
    }
   ],
   "source": [
    "import pandas as pd\n",
    "import numpy as np \n",
    "import os\n",
    "import math\n",
    "from collections import defaultdict\n",
    "import matplotlib.pyplot as plt\n",
    "from sklearn.feature_extraction.text import TfidfVectorizer,CountVectorizer\n",
    "from sklearn.model_selection import train_test_split\n",
    "from keras.preprocessing.text import Tokenizer\n",
    "from keras.preprocessing.sequence import pad_sequences\n",
    "from keras.layers import SpatialDropout1D, LSTM, BatchNormalization,concatenate,Flatten,Embedding,Dense,Dropout,MaxPooling2D,Reshape,CuDNNLSTM\n",
    "from keras.models import Sequential\n",
    "from keras import Model,Input\n",
    "from keras.layers.convolutional import Conv2D,Conv1D\n",
    "import keras.backend as k\n",
    "from sklearn.metrics import roc_auc_score\n",
    "import tensorflow as tf\n",
    "import keras\n",
    "from sklearn.utils import compute_class_weight\n",
    "from keras.initializers import he_normal,glorot_normal\n",
    "from keras.regularizers import l1,l2\n",
    "from keras.callbacks import Callback, EarlyStopping, ModelCheckpoint,LearningRateScheduler\n",
    "from time import time\n",
    "from tensorflow.python.keras.callbacks import TensorBoard\n",
    "from IPython.display import SVG, display\n",
    "import pickle \n",
    "import warnings\n",
    "warnings.filterwarnings(\"ignore\")"
   ]
  },
  {
   "cell_type": "code",
   "execution_count": 37,
   "metadata": {},
   "outputs": [],
   "source": [
    "df = pd.read_csv('train_data_numeric_feature_added.csv')\n",
    "project_data['presence_of_the_numerical_digits'] = df['presence_of_the_numerical_digits']"
   ]
  },
  {
   "cell_type": "code",
   "execution_count": 38,
   "metadata": {
    "scrolled": true
   },
   "outputs": [
    {
     "name": "stdout",
     "output_type": "stream",
     "text": [
      "(109248, 23)\n"
     ]
    },
    {
     "data": {
      "text/html": [
       "<div>\n",
       "<style scoped>\n",
       "    .dataframe tbody tr th:only-of-type {\n",
       "        vertical-align: middle;\n",
       "    }\n",
       "\n",
       "    .dataframe tbody tr th {\n",
       "        vertical-align: top;\n",
       "    }\n",
       "\n",
       "    .dataframe thead th {\n",
       "        text-align: right;\n",
       "    }\n",
       "</style>\n",
       "<table border=\"1\" class=\"dataframe\">\n",
       "  <thead>\n",
       "    <tr style=\"text-align: right;\">\n",
       "      <th></th>\n",
       "      <th>Unnamed: 0</th>\n",
       "      <th>id</th>\n",
       "      <th>teacher_id</th>\n",
       "      <th>teacher_prefix</th>\n",
       "      <th>school_state</th>\n",
       "      <th>project_submitted_datetime</th>\n",
       "      <th>project_grade_category</th>\n",
       "      <th>project_subject_categories</th>\n",
       "      <th>project_subject_subcategories</th>\n",
       "      <th>project_title</th>\n",
       "      <th>...</th>\n",
       "      <th>project_essay_4</th>\n",
       "      <th>project_resource_summary</th>\n",
       "      <th>teacher_number_of_previously_posted_projects</th>\n",
       "      <th>project_is_approved</th>\n",
       "      <th>essay</th>\n",
       "      <th>quantity</th>\n",
       "      <th>price</th>\n",
       "      <th>std_price</th>\n",
       "      <th>nrm_price</th>\n",
       "      <th>presence_of_the_numerical_digits</th>\n",
       "    </tr>\n",
       "  </thead>\n",
       "  <tbody>\n",
       "    <tr>\n",
       "      <th>0</th>\n",
       "      <td>160221</td>\n",
       "      <td>p253737</td>\n",
       "      <td>c90749f5d961ff158d4b4d1e7dc665fc</td>\n",
       "      <td>mrs</td>\n",
       "      <td>in</td>\n",
       "      <td>2016-12-05 13:43:57</td>\n",
       "      <td>grades_prek_2</td>\n",
       "      <td>literacy_language</td>\n",
       "      <td>esl_literacy</td>\n",
       "      <td>Educational Support for English Learners at Home</td>\n",
       "      <td>...</td>\n",
       "      <td>NaN</td>\n",
       "      <td>My students need opportunities to practice beg...</td>\n",
       "      <td>0</td>\n",
       "      <td>0</td>\n",
       "      <td>My students are English learners that are work...</td>\n",
       "      <td>23</td>\n",
       "      <td>154.6</td>\n",
       "      <td>-0.390533</td>\n",
       "      <td>0.015397</td>\n",
       "      <td>0</td>\n",
       "    </tr>\n",
       "    <tr>\n",
       "      <th>1</th>\n",
       "      <td>140945</td>\n",
       "      <td>p258326</td>\n",
       "      <td>897464ce9ddc600bced1151f324dd63a</td>\n",
       "      <td>mr</td>\n",
       "      <td>fl</td>\n",
       "      <td>2016-10-25 09:22:10</td>\n",
       "      <td>grades_6_8</td>\n",
       "      <td>history_civics_health_sports</td>\n",
       "      <td>civics_government_teamsports</td>\n",
       "      <td>Wanted: Projector for Hungry Learners</td>\n",
       "      <td>...</td>\n",
       "      <td>NaN</td>\n",
       "      <td>My students need a projector to help with view...</td>\n",
       "      <td>7</td>\n",
       "      <td>1</td>\n",
       "      <td>Our students arrive to our school eager to lea...</td>\n",
       "      <td>1</td>\n",
       "      <td>299.0</td>\n",
       "      <td>0.002396</td>\n",
       "      <td>0.029839</td>\n",
       "      <td>0</td>\n",
       "    </tr>\n",
       "  </tbody>\n",
       "</table>\n",
       "<p>2 rows × 23 columns</p>\n",
       "</div>"
      ],
      "text/plain": [
       "   Unnamed: 0       id                        teacher_id teacher_prefix  \\\n",
       "0      160221  p253737  c90749f5d961ff158d4b4d1e7dc665fc            mrs   \n",
       "1      140945  p258326  897464ce9ddc600bced1151f324dd63a             mr   \n",
       "\n",
       "  school_state project_submitted_datetime project_grade_category  \\\n",
       "0           in        2016-12-05 13:43:57          grades_prek_2   \n",
       "1           fl        2016-10-25 09:22:10             grades_6_8   \n",
       "\n",
       "     project_subject_categories project_subject_subcategories  \\\n",
       "0             literacy_language                  esl_literacy   \n",
       "1  history_civics_health_sports  civics_government_teamsports   \n",
       "\n",
       "                                      project_title  ... project_essay_4  \\\n",
       "0  Educational Support for English Learners at Home  ...             NaN   \n",
       "1             Wanted: Projector for Hungry Learners  ...             NaN   \n",
       "\n",
       "                            project_resource_summary  \\\n",
       "0  My students need opportunities to practice beg...   \n",
       "1  My students need a projector to help with view...   \n",
       "\n",
       "  teacher_number_of_previously_posted_projects project_is_approved  \\\n",
       "0                                            0                   0   \n",
       "1                                            7                   1   \n",
       "\n",
       "                                               essay  quantity  price  \\\n",
       "0  My students are English learners that are work...        23  154.6   \n",
       "1  Our students arrive to our school eager to lea...         1  299.0   \n",
       "\n",
       "  std_price  nrm_price  presence_of_the_numerical_digits  \n",
       "0 -0.390533   0.015397                                 0  \n",
       "1  0.002396   0.029839                                 0  \n",
       "\n",
       "[2 rows x 23 columns]"
      ]
     },
     "execution_count": 38,
     "metadata": {},
     "output_type": "execute_result"
    }
   ],
   "source": [
    "print(project_data.shape)\n",
    "project_data.head(2)"
   ]
  },
  {
   "cell_type": "code",
   "execution_count": 39,
   "metadata": {},
   "outputs": [
    {
     "data": {
      "text/plain": [
       "Unnamed: 0                                      109248\n",
       "id                                              109248\n",
       "teacher_id                                       72168\n",
       "teacher_prefix                                       5\n",
       "school_state                                        51\n",
       "project_submitted_datetime                      108537\n",
       "project_grade_category                               4\n",
       "project_subject_categories                          51\n",
       "project_subject_subcategories                      401\n",
       "project_title                                   100851\n",
       "project_essay_1                                  94319\n",
       "project_essay_2                                 108832\n",
       "project_essay_3                                   3755\n",
       "project_essay_4                                   3750\n",
       "project_resource_summary                        108324\n",
       "teacher_number_of_previously_posted_projects       374\n",
       "project_is_approved                                  2\n",
       "essay                                           108986\n",
       "quantity                                           332\n",
       "price                                            56539\n",
       "std_price                                        54109\n",
       "nrm_price                                        55132\n",
       "presence_of_the_numerical_digits                    10\n",
       "dtype: int64"
      ]
     },
     "execution_count": 39,
     "metadata": {},
     "output_type": "execute_result"
    }
   ],
   "source": [
    "project_data.nunique()"
   ]
  },
  {
   "cell_type": "markdown",
   "metadata": {},
   "source": [
    "### Observation:\n",
    "   * out of 23 columns i can see there is 3 different types of columns like numerical(remaining data as mentioned in assignment graph),categorical and text column(preprocessed essay).\n",
    "   * To complete the remaining features i shall divide the whole preprcessed dataset into 2(numerical and textual).\n",
    "   * First i shall seperate all the text,categorical and numerical data columns into one individual columns column.\n",
    "   * Before that To create model, we shall divide the dataset into train,CV and test to avoid the data leakage. "
   ]
  },
  {
   "cell_type": "code",
   "execution_count": 40,
   "metadata": {},
   "outputs": [],
   "source": [
    "#Bringing all the numerical features like teacher_number_of_previously_posted_projects, price and quantity into a single feature\n",
    "project_data.drop(['Unnamed: 0'], axis =1 , inplace = True)\n",
    "class_label = project_data['project_is_approved']\n",
    "project_data['remaining_input'] = project_data['teacher_number_of_previously_posted_projects']  +\\\n",
    "                                    project_data['presence_of_the_numerical_digits']  + \\\n",
    "                                    project_data['price'] +project_data['nrm_price']+\\\n",
    "                                    project_data['std_price']+project_data['quantity']\n",
    "project_data['total_txt'] = project_data['project_title'] + ' ' + project_data['essay'] + ' ' + project_data['project_resource_summary']"
   ]
  },
  {
   "cell_type": "code",
   "execution_count": 41,
   "metadata": {},
   "outputs": [],
   "source": [
    "#As we can see there are NAN in the dataset we shall fill with the same values by converting into string.\n",
    "project_data.replace(to_replace=np.NaN, value= str('nan'),inplace=True)"
   ]
  },
  {
   "cell_type": "code",
   "execution_count": 42,
   "metadata": {
    "scrolled": true
   },
   "outputs": [
    {
     "name": "stdout",
     "output_type": "stream",
     "text": [
      "<class 'pandas.core.frame.DataFrame'>\n",
      "Int64Index: 109248 entries, 0 to 109247\n",
      "Data columns (total 24 columns):\n",
      "id                                              109248 non-null object\n",
      "teacher_id                                      109248 non-null object\n",
      "teacher_prefix                                  109248 non-null object\n",
      "school_state                                    109248 non-null object\n",
      "project_submitted_datetime                      109248 non-null object\n",
      "project_grade_category                          109248 non-null object\n",
      "project_subject_categories                      109248 non-null object\n",
      "project_subject_subcategories                   109248 non-null object\n",
      "project_title                                   109248 non-null object\n",
      "project_essay_1                                 109248 non-null object\n",
      "project_essay_2                                 109248 non-null object\n",
      "project_essay_3                                 109248 non-null object\n",
      "project_essay_4                                 109248 non-null object\n",
      "project_resource_summary                        109248 non-null object\n",
      "teacher_number_of_previously_posted_projects    109248 non-null int64\n",
      "project_is_approved                             109248 non-null int64\n",
      "essay                                           109248 non-null object\n",
      "quantity                                        109248 non-null int64\n",
      "price                                           109248 non-null float64\n",
      "std_price                                       109248 non-null float64\n",
      "nrm_price                                       109248 non-null float64\n",
      "presence_of_the_numerical_digits                109248 non-null int64\n",
      "remaining_input                                 109248 non-null float64\n",
      "total_txt                                       109248 non-null object\n",
      "dtypes: float64(4), int64(4), object(16)\n",
      "memory usage: 20.8+ MB\n"
     ]
    }
   ],
   "source": [
    "project_data.info()"
   ]
  },
  {
   "cell_type": "code",
   "execution_count": 43,
   "metadata": {},
   "outputs": [],
   "source": [
    "# Now lets remove the un-nessesary data.\n",
    "col = ['id','teacher_id','project_submitted_datetime','project_title','project_essay_1', 'project_essay_2',\n",
    "       'project_essay_3', 'project_essay_4','project_resource_summary',\n",
    "       'teacher_number_of_previously_posted_projects', 'project_is_approved','price', 'std_price','nrm_price','quantity',\n",
    "        'presence_of_the_numerical_digits','essay']\n",
    "\n",
    "project_data.drop(labels=col, axis=1, inplace=True)"
   ]
  },
  {
   "cell_type": "code",
   "execution_count": 44,
   "metadata": {},
   "outputs": [
    {
     "data": {
      "text/plain": [
       "Index(['teacher_prefix', 'school_state', 'project_grade_category',\n",
       "       'project_subject_categories', 'project_subject_subcategories',\n",
       "       'remaining_input', 'total_txt'],\n",
       "      dtype='object')"
      ]
     },
     "execution_count": 44,
     "metadata": {},
     "output_type": "execute_result"
    }
   ],
   "source": [
    "project_data.columns"
   ]
  },
  {
   "cell_type": "code",
   "execution_count": 45,
   "metadata": {},
   "outputs": [
    {
     "data": {
      "text/html": [
       "<div>\n",
       "<style scoped>\n",
       "    .dataframe tbody tr th:only-of-type {\n",
       "        vertical-align: middle;\n",
       "    }\n",
       "\n",
       "    .dataframe tbody tr th {\n",
       "        vertical-align: top;\n",
       "    }\n",
       "\n",
       "    .dataframe thead th {\n",
       "        text-align: right;\n",
       "    }\n",
       "</style>\n",
       "<table border=\"1\" class=\"dataframe\">\n",
       "  <thead>\n",
       "    <tr style=\"text-align: right;\">\n",
       "      <th></th>\n",
       "      <th>teacher_prefix</th>\n",
       "      <th>school_state</th>\n",
       "      <th>project_grade_category</th>\n",
       "      <th>project_subject_categories</th>\n",
       "      <th>project_subject_subcategories</th>\n",
       "      <th>remaining_input</th>\n",
       "      <th>total_txt</th>\n",
       "    </tr>\n",
       "  </thead>\n",
       "  <tbody>\n",
       "    <tr>\n",
       "      <th>0</th>\n",
       "      <td>mrs</td>\n",
       "      <td>in</td>\n",
       "      <td>grades_prek_2</td>\n",
       "      <td>literacy_language</td>\n",
       "      <td>esl_literacy</td>\n",
       "      <td>177.224864</td>\n",
       "      <td>Educational Support for English Learners at Ho...</td>\n",
       "    </tr>\n",
       "  </tbody>\n",
       "</table>\n",
       "</div>"
      ],
      "text/plain": [
       "  teacher_prefix school_state project_grade_category  \\\n",
       "0            mrs           in          grades_prek_2   \n",
       "\n",
       "  project_subject_categories project_subject_subcategories  remaining_input  \\\n",
       "0          literacy_language                  esl_literacy       177.224864   \n",
       "\n",
       "                                           total_txt  \n",
       "0  Educational Support for English Learners at Ho...  "
      ]
     },
     "execution_count": 45,
     "metadata": {},
     "output_type": "execute_result"
    }
   ],
   "source": [
    "#numerical_feat=project_data['remaining_input']\n",
    "#project_data=project_data.drop('remaining_input',axis=1)\n",
    "project_data.head(1)"
   ]
  },
  {
   "cell_type": "markdown",
   "metadata": {},
   "source": [
    "## Spliting the dataset into train cv and test "
   ]
  },
  {
   "cell_type": "code",
   "execution_count": 46,
   "metadata": {},
   "outputs": [
    {
     "data": {
      "text/plain": [
       "((61178, 7), (32775, 7), (15295, 7), (61178,), (32775,), (15295,))"
      ]
     },
     "execution_count": 46,
     "metadata": {},
     "output_type": "execute_result"
    }
   ],
   "source": [
    "#def split_dataset(dataframe):\n",
    "col_names = project_data.columns\n",
    "train,test,y_train,y_test = train_test_split(project_data, class_label , stratify = class_label,test_size = 0.3)\n",
    "train,cv,y_train,y_cv = train_test_split(train,y_train,stratify = y_train,test_size = 0.2)\n",
    "\n",
    "train.shape,test.shape,cv.shape,y_train.shape,y_test.shape,y_cv.shape"
   ]
  },
  {
   "cell_type": "code",
   "execution_count": 89,
   "metadata": {},
   "outputs": [],
   "source": [
    "remain_train =train['remaining_input']\n",
    "remain_test = test['remaining_input']\n",
    "remain_cv= cv['remaining_input']\n",
    "\n",
    "train.drop(['remaining_input'], axis=1,inplace=True)\n",
    "test.drop(['remaining_input'], axis=1,inplace=True)\n",
    "cv.drop(['remaining_input'], axis=1,inplace=True)"
   ]
  },
  {
   "cell_type": "code",
   "execution_count": 90,
   "metadata": {
    "scrolled": false
   },
   "outputs": [
    {
     "data": {
      "text/html": [
       "<div>\n",
       "<style scoped>\n",
       "    .dataframe tbody tr th:only-of-type {\n",
       "        vertical-align: middle;\n",
       "    }\n",
       "\n",
       "    .dataframe tbody tr th {\n",
       "        vertical-align: top;\n",
       "    }\n",
       "\n",
       "    .dataframe thead th {\n",
       "        text-align: right;\n",
       "    }\n",
       "</style>\n",
       "<table border=\"1\" class=\"dataframe\">\n",
       "  <thead>\n",
       "    <tr style=\"text-align: right;\">\n",
       "      <th></th>\n",
       "      <th>teacher_prefix</th>\n",
       "      <th>school_state</th>\n",
       "      <th>project_grade_category</th>\n",
       "      <th>project_subject_categories</th>\n",
       "      <th>project_subject_subcategories</th>\n",
       "      <th>total_txt</th>\n",
       "    </tr>\n",
       "  </thead>\n",
       "  <tbody>\n",
       "    <tr>\n",
       "      <th>20852</th>\n",
       "      <td>ms</td>\n",
       "      <td>ok</td>\n",
       "      <td>grades_3_5</td>\n",
       "      <td>literacy_language_math_science</td>\n",
       "      <td>literacy_mathematics</td>\n",
       "      <td>Books in the Classroom-Building Fluent Readers...</td>\n",
       "    </tr>\n",
       "  </tbody>\n",
       "</table>\n",
       "</div>"
      ],
      "text/plain": [
       "      teacher_prefix school_state project_grade_category  \\\n",
       "20852             ms           ok             grades_3_5   \n",
       "\n",
       "           project_subject_categories project_subject_subcategories  \\\n",
       "20852  literacy_language_math_science          literacy_mathematics   \n",
       "\n",
       "                                               total_txt  \n",
       "20852  Books in the Classroom-Building Fluent Readers...  "
      ]
     },
     "execution_count": 90,
     "metadata": {},
     "output_type": "execute_result"
    }
   ],
   "source": [
    "train.head(1)"
   ]
  },
  {
   "cell_type": "markdown",
   "metadata": {},
   "source": [
    "### Converting all the text data into numerical according to the ranking of whole dataset."
   ]
  },
  {
   "cell_type": "code",
   "execution_count": null,
   "metadata": {},
   "outputs": [],
   "source": [
    "'''def wordtofreq(wordlst):\n",
    "    bow = CountVectorizer(lowercase= False)\n",
    "    bow_words = bow.fit_transform(wordlst)\n",
    "    #print(bow_words.shape)\n",
    "    freqs = bow_words.sum(axis=0).A1\n",
    "    index = freqs.argsort()\n",
    "    words = bow.get_feature_names()\n",
    "    return dict(list(zip(words,freqs)))\n",
    "    \n",
    "def rankingWords(sentence,dictionary):\n",
    "    ranked_sent=list()\n",
    "    for sent in sentence:\n",
    "        d=list()\n",
    "        for i in range(len(sent.split())):\n",
    "            w =sent.split()[i]\n",
    "            if w in dictionary.keys():\n",
    "                r =dictionary[w]\n",
    "                d.append(r)\n",
    "        ranked_sent.append(d)\n",
    "    return ranked_sent\n",
    "\n",
    "from sklearn.feature_extraction.text import CountVectorizer\n",
    "import numpy as np\n",
    "\n",
    "def converting_text_to_numeric_on_rankings(text):\n",
    "    review_count=list()\n",
    "    for i in text.values:\n",
    "        review_count.append(i.split())\n",
    "\n",
    "    words_list=[item for review_count in review_count for item in review_count]\n",
    "\n",
    "    word_dict=wordtofreq(words_list)\n",
    "\n",
    "    #https://stackoverflow.com/questions/40488532/python-sorting-the-values-of-a-dict-and-extracting-the-keys-corresponding-to-th\n",
    "    ranked_word_dict={key: rank for rank, key in enumerate(sorted(word_dict, key=word_dict.get,reverse=True), 1)}\n",
    "\n",
    "    #maping each and every review into ranked listed review\n",
    "    ranked_datareviews=np.array(rankingWords(text.values,ranked_word_dict))\n",
    "    return ranked_datareviews\n",
    "\n",
    "X_train['school_state'] = [i for i in converting_text_to_numeric_on_rankings(train['school_state'])]\n",
    "X_test['school_state'] = [i for i in converting_text_to_numeric_on_rankings(test['school_state'])]\n",
    "X_cv['school_state'] = [i for i in converting_text_to_numeric_on_rankings(cv['school_state'])]\n",
    "\n",
    "X_train['teacher_prefix'] = [i for i in converting_text_to_numeric_on_rankings(train['teacher_prefix'])]\n",
    "X_test['teacher_prefix'] = [i for i in converting_text_to_numeric_on_rankings(test['teacher_prefix'])]\n",
    "X_cv['teacher_prefix'] = [i for i in converting_text_to_numeric_on_rankings(cv['teacher_prefix'])]\n",
    "\n",
    "X_train['project_grade_category'] = [i for i in converting_text_to_numeric_on_rankings(train['project_grade_category'])]\n",
    "X_test['project_grade_category'] = [i for i in converting_text_to_numeric_on_rankings(test['project_grade_category'])]\n",
    "X_cv['project_grade_category'] = [i for i in converting_text_to_numeric_on_rankings(cv['project_grade_category'])]\n",
    "\n",
    "X_train['project_subject_categories'] = [i for i in converting_text_to_numeric_on_rankings(train['project_subject_categories'])]\n",
    "X_test['project_subject_categories'] = [i for i in converting_text_to_numeric_on_rankings(test['project_subject_categories'])]\n",
    "X_cv['project_subject_categories'] = [i for i in converting_text_to_numeric_on_rankings(cv['project_subject_categories'])]\n",
    "\n",
    "X_train['project_subject_subcategories'] = [i for i in converting_text_to_numeric_on_rankings(train['project_subject_subcategories'])]\n",
    "X_test['project_subject_subcategories'] = [i for i in converting_text_to_numeric_on_rankings(test['project_subject_subcategories'])]\n",
    "X_cv['project_subject_subcategories'] = [i for i in converting_text_to_numeric_on_rankings(cv['project_subject_subcategories'])]\n",
    "\n",
    "X_train['total_txt'] = [i for i in converting_text_to_numeric_on_rankings(train['total_txt'])]\n",
    "X_test['total_txt'] = [i for i in converting_text_to_numeric_on_rankings(test['total_txt'])]\n",
    "X_cv['total_txt'] = [i for i in converting_text_to_numeric_on_rankings(cv['total_txt'])]'''"
   ]
  },
  {
   "cell_type": "markdown",
   "metadata": {},
   "source": [
    "### observation:\n",
    "   * since the above code cannot give the top words based on the train data we shall discard above algorithm.\n",
    "   * On tokenizing the each word of text, we can use the predefined keras library for this(like below)."
   ]
  },
  {
   "cell_type": "code",
   "execution_count": 91,
   "metadata": {},
   "outputs": [],
   "source": [
    "X_train=pd.DataFrame()\n",
    "X_test=pd.DataFrame()\n",
    "X_cv=pd.DataFrame()"
   ]
  },
  {
   "cell_type": "code",
   "execution_count": 92,
   "metadata": {},
   "outputs": [
    {
     "data": {
      "text/plain": [
       "Index(['teacher_prefix', 'school_state', 'project_grade_category',\n",
       "       'project_subject_categories', 'project_subject_subcategories',\n",
       "       'total_txt'],\n",
       "      dtype='object')"
      ]
     },
     "execution_count": 92,
     "metadata": {},
     "output_type": "execute_result"
    }
   ],
   "source": [
    "train.columns"
   ]
  },
  {
   "cell_type": "code",
   "execution_count": 93,
   "metadata": {},
   "outputs": [],
   "source": [
    "from keras.preprocessing.text import Tokenizer\n",
    "#https://machinelearningmastery.com/prepare-text-data-deep-learning-keras/\n",
    "for i in train.columns:\n",
    "    tokenizer = Tokenizer(num_words=5000)\n",
    "    tokenizer.fit_on_texts(train[i])\n",
    "    #Based on the train data we shall extract the topwords and assign ranking.\n",
    "    X_train[i] = tokenizer.texts_to_sequences(train[i])\n",
    "    X_test[i] =tokenizer.texts_to_sequences(test[i])\n",
    "    X_cv[i] =tokenizer.texts_to_sequences(cv[i])"
   ]
  },
  {
   "cell_type": "code",
   "execution_count": 94,
   "metadata": {},
   "outputs": [
    {
     "name": "stdout",
     "output_type": "stream",
     "text": [
      "(61178, 6)\n"
     ]
    },
    {
     "data": {
      "text/html": [
       "<div>\n",
       "<style scoped>\n",
       "    .dataframe tbody tr th:only-of-type {\n",
       "        vertical-align: middle;\n",
       "    }\n",
       "\n",
       "    .dataframe tbody tr th {\n",
       "        vertical-align: top;\n",
       "    }\n",
       "\n",
       "    .dataframe thead th {\n",
       "        text-align: right;\n",
       "    }\n",
       "</style>\n",
       "<table border=\"1\" class=\"dataframe\">\n",
       "  <thead>\n",
       "    <tr style=\"text-align: right;\">\n",
       "      <th></th>\n",
       "      <th>teacher_prefix</th>\n",
       "      <th>school_state</th>\n",
       "      <th>project_grade_category</th>\n",
       "      <th>project_subject_categories</th>\n",
       "      <th>project_subject_subcategories</th>\n",
       "      <th>total_txt</th>\n",
       "    </tr>\n",
       "  </thead>\n",
       "  <tbody>\n",
       "    <tr>\n",
       "      <th>0</th>\n",
       "      <td>[2]</td>\n",
       "      <td>[17]</td>\n",
       "      <td>[1, 4, 5]</td>\n",
       "      <td>[1, 2, 3, 4]</td>\n",
       "      <td>[1, 2]</td>\n",
       "      <td>[52, 8, 3, 28, 261, 1546, 229, 7, 4, 10, 3, 11...</td>\n",
       "    </tr>\n",
       "    <tr>\n",
       "      <th>1</th>\n",
       "      <td>[1]</td>\n",
       "      <td>[14]</td>\n",
       "      <td>[1, 2, 3]</td>\n",
       "      <td>[1, 2, 3, 4]</td>\n",
       "      <td>[1, 2]</td>\n",
       "      <td>[217, 67, 127, 73, 128, 87, 76, 34, 33, 150, 4...</td>\n",
       "    </tr>\n",
       "    <tr>\n",
       "      <th>2</th>\n",
       "      <td>[1]</td>\n",
       "      <td>[10]</td>\n",
       "      <td>[1, 6, 7]</td>\n",
       "      <td>[1, 2]</td>\n",
       "      <td>[1]</td>\n",
       "      <td>[303, 29, 3, 52, 7, 4, 10, 879, 185, 72, 10, 1...</td>\n",
       "    </tr>\n",
       "  </tbody>\n",
       "</table>\n",
       "</div>"
      ],
      "text/plain": [
       "  teacher_prefix school_state project_grade_category  \\\n",
       "0            [2]         [17]              [1, 4, 5]   \n",
       "1            [1]         [14]              [1, 2, 3]   \n",
       "2            [1]         [10]              [1, 6, 7]   \n",
       "\n",
       "  project_subject_categories project_subject_subcategories  \\\n",
       "0               [1, 2, 3, 4]                        [1, 2]   \n",
       "1               [1, 2, 3, 4]                        [1, 2]   \n",
       "2                     [1, 2]                           [1]   \n",
       "\n",
       "                                           total_txt  \n",
       "0  [52, 8, 3, 28, 261, 1546, 229, 7, 4, 10, 3, 11...  \n",
       "1  [217, 67, 127, 73, 128, 87, 76, 34, 33, 150, 4...  \n",
       "2  [303, 29, 3, 52, 7, 4, 10, 879, 185, 72, 10, 1...  "
      ]
     },
     "execution_count": 94,
     "metadata": {},
     "output_type": "execute_result"
    }
   ],
   "source": [
    "print(X_train.shape)\n",
    "X_train.head(3)"
   ]
  },
  {
   "cell_type": "markdown",
   "metadata": {},
   "source": [
    "### Training the total_text with glove vectors(given) by forming a matrix with rows as words and columns with 300 dim vectors for each word"
   ]
  },
  {
   "cell_type": "code",
   "execution_count": 46,
   "metadata": {},
   "outputs": [
    {
     "data": {
      "text/plain": [
       "(300,)"
      ]
     },
     "execution_count": 46,
     "metadata": {},
     "output_type": "execute_result"
    }
   ],
   "source": [
    "dbfile = open('glove_vectors', 'rb')      \n",
    "db = pickle.load(dbfile)\n",
    "\n",
    "db['nice'].shape"
   ]
  },
  {
   "cell_type": "code",
   "execution_count": 47,
   "metadata": {},
   "outputs": [],
   "source": [
    "def embedding_mat(word_index,embedding_dim = 300):\n",
    "    embedding_matrix = np.zeros((len(word_index) + 1, embedding_dim))\n",
    "    for word, i in word_index.items():\n",
    "        embedding_vector = db.get(word)\n",
    "        if embedding_vector is not None:\n",
    "        # words not found in embedding index will be all-zeros.\n",
    "            embedding_matrix[i] = embedding_vector\n",
    "    return embedding_matrix"
   ]
  },
  {
   "cell_type": "code",
   "execution_count": 74,
   "metadata": {},
   "outputs": [],
   "source": [
    "#converting class labels to categorical variables\n",
    "from keras.utils import to_categorical\n",
    "y_train = to_categorical(y_train)\n",
    "y_test = to_categorical(y_test)\n",
    "y_cv = to_categorical(y_cv)"
   ]
  },
  {
   "cell_type": "code",
   "execution_count": 48,
   "metadata": {},
   "outputs": [
    {
     "data": {
      "text/plain": [
       "array([3.30214001, 0.58921753])"
      ]
     },
     "execution_count": 48,
     "metadata": {},
     "output_type": "execute_result"
    }
   ],
   "source": [
    "class_wght = compute_class_weight(\"balanced\", classes= np.unique(class_label),y=class_label)\n",
    "class_wght"
   ]
  },
  {
   "cell_type": "markdown",
   "metadata": {},
   "source": [
    "## Padding"
   ]
  },
  {
   "cell_type": "code",
   "execution_count": 99,
   "metadata": {},
   "outputs": [],
   "source": [
    "r=list()\n",
    "for i in train['total_txt']:\n",
    "    r.append(len(pd.Series(i).str.split()[0]))\n",
    "\n",
    "ln=max(r)"
   ]
  },
  {
   "cell_type": "code",
   "execution_count": 100,
   "metadata": {},
   "outputs": [
    {
     "name": "stdout",
     "output_type": "stream",
     "text": [
      "(61178, 549)\n",
      "[   0    0    0    0    0    0    0    0    0    0    0    0    0    0\n",
      "    0    0    0    0    0    0    0    0    0    0    0    0    0    0\n",
      "    0    0    0    0    0    0    0    0    0    0    0    0    0    0\n",
      "    0    0    0    0    0    0    0    0    0    0    0    0    0    0\n",
      "    0    0    0    0    0    0    0    0    0    0    0    0    0    0\n",
      "    0    0    0    0    0    0    0    0    0    0    0    0    0    0\n",
      "    0    0    0    0    0    0    0    0    0    0    0    0    0    0\n",
      "    0    0    0    0    0    0    0    0    0    0    0    0    0    0\n",
      "    0    0    0    0    0    0    0    0    0    0    0    0    0    0\n",
      "    0    0    0    0    0    0    0    0    0    0    0    0    0    0\n",
      "    0    0    0    0    0    0    0    0    0    0    0    0    0    0\n",
      "    0    0    0    0    0    0    0    0    0    0    0    0    0    0\n",
      "    0    0    0    0    0    0    0    0    0    0    0    0    0    0\n",
      "    0    0    0    0    0    0    0    0    0    0    0    0    0    0\n",
      "    0    0    0    0    0    0    0    0    0    0    0    0    0    0\n",
      "    0    0    0    0    0    0    0    0    0    0    0    0    0    0\n",
      "    0    0    0    0    0    0    0    0    0    0    0    0    0    0\n",
      "    0    0    0    0    0    0    0    0    0    0    0    0    0    0\n",
      "    0    0    0    0    0    0    0    0    0    0    0    0    0    0\n",
      "    0    0    0    0    0    0    0    0    0    0    0    0    0    0\n",
      "    0    0    0    0    0    0    0    0    0    0    0    0    0    0\n",
      "    0    0    0    0    0    0    0    0    0    0    0    0    0    0\n",
      "    0    0    0    0    0    0    0    0    0    0    0    0    0    0\n",
      "    0    0    0    0    0    0    0  145    1  199  165    7    4   10\n",
      "   39   38  202    3  379    6   59 4245  168 2246    6   15    4   10\n",
      " 1050  698    2    3 4608   10  989    2 2934   74 2186  804    6   15\n",
      "    4  207  124    2  239 2912  149   16   96    4   72   10  342    8\n",
      "    3 1222   73   62   40   37    5  772   73  148   11   50    1   33\n",
      "   62 3405    1   79   11   10  228 2249   60   15  464    6  364  155\n",
      "  178   30   52  768  588  188  115  498   32   94    8 2985   17   87\n",
      "  322    8    7   28 1621    3  110   75    2   55    1  461 3001   27\n",
      "  145  518   22    5  128  154   14    4    4   13  146   43 1109  203\n",
      "   11   19   12 2276 2025    4   34 3915   23    2   67   23   12  135\n",
      "   15  428  410  104  869    8  488 1067    2 1030   15 3062 2025   13\n",
      "   32    4    1  161  949 4558    4   13   33   17  145   20    5 4609\n",
      "  451   15  294  889   13   22   53    1  146   12  839   18   23    1\n",
      "   12  421  543   12 1570   34   22    2 2768  237    3   54  145 1522\n",
      "    5  106    6 1613   17   13   32   15  104  161 1126 4558    2  119\n",
      "  336  104   47    7    4   26 2025    1  722   12 1149   77    3  158\n",
      " 1013    6  145]\n"
     ]
    }
   ],
   "source": [
    "max_review_length = ln\n",
    "X_train_txt = pad_sequences(X_train['total_txt'], maxlen=max_review_length)  #padding zeros at the begining of each review to make max len as 200\n",
    "X_test_txt = pad_sequences(X_test['total_txt'], maxlen=max_review_length)\n",
    "X_cv_txt = pad_sequences(X_cv['total_txt'], maxlen=max_review_length)\n",
    "print(X_train_txt.shape)\n",
    "print(X_train_txt[256])"
   ]
  },
  {
   "cell_type": "code",
   "execution_count": 101,
   "metadata": {},
   "outputs": [
    {
     "name": "stdout",
     "output_type": "stream",
     "text": [
      "(61178, 1)\n",
      "[17]\n",
      "(61178, 1)\n",
      "[5]\n",
      "(61178, 1)\n",
      "[4]\n",
      "(61178, 1)\n",
      "[2]\n",
      "(61178, 1)\n",
      "[3]\n"
     ]
    }
   ],
   "source": [
    "max_review_length = 1\n",
    "X_train_school_state = pad_sequences(X_train['school_state'], maxlen=max_review_length)  #padding zeros at the begining of each review to make max len as 200\n",
    "X_test_school_state = pad_sequences(X_test['school_state'], maxlen=max_review_length)\n",
    "X_cv_school_state = pad_sequences(X_cv['school_state'], maxlen=max_review_length)\n",
    "w1=X_train_school_state.shape[1]\n",
    "print(X_train_school_state.shape)\n",
    "print(X_train_school_state[0])\n",
    "\n",
    "max_review_length = 1\n",
    "X_train_project_grade = pad_sequences(X_train['project_grade_category'], maxlen=max_review_length)  #padding zeros at the begining of each review to make max len as 200\n",
    "X_test_project_grade = pad_sequences(X_test['project_grade_category'], maxlen=max_review_length)\n",
    "X_cv_project_grade = pad_sequences(X_cv['project_grade_category'], maxlen=max_review_length)\n",
    "w2=X_train_project_grade.shape[1]\n",
    "print(X_train_project_grade.shape)\n",
    "print(X_train_project_grade[0])\n",
    "\n",
    "max_review_length = 1\n",
    "X_train_project_cat = pad_sequences(X_train['project_subject_categories'], maxlen=max_review_length)  #padding zeros at the begining of each review to make max len as 200\n",
    "X_test_project_cat = pad_sequences(X_test['project_subject_categories'], maxlen=max_review_length)\n",
    "X_cv_project_cat = pad_sequences(X_cv['project_subject_categories'], maxlen=max_review_length)\n",
    "w3=X_train_project_cat.shape[1]\n",
    "print(X_train_project_cat.shape)\n",
    "print(X_train_project_cat[0])\n",
    "\n",
    "max_review_length = 1\n",
    "X_train_project_subcat = pad_sequences(X_train['project_subject_subcategories'], maxlen=max_review_length)  #padding zeros at the begining of each review to make max len as 200\n",
    "X_test_project_subcat = pad_sequences(X_test['project_subject_subcategories'], maxlen=max_review_length)\n",
    "X_cv_project_subcat = pad_sequences(X_cv['project_subject_subcategories'], maxlen=max_review_length)\n",
    "w4=X_train_project_subcat.shape[1]\n",
    "print(X_train_project_subcat.shape)\n",
    "print(X_train_project_subcat[0])\n",
    "\n",
    "max_review_length = 1\n",
    "X_train_teacher_prefix = pad_sequences(X_train['teacher_prefix'], maxlen=max_review_length)  #padding zeros at the begining of each review to make max len as 200\n",
    "X_test_teacher_prefix = pad_sequences(X_test['teacher_prefix'], maxlen=max_review_length)\n",
    "X_cv_teacher_prefix = pad_sequences(X_cv['teacher_prefix'], maxlen=max_review_length)\n",
    "w5=X_train_teacher_prefix.shape[1]\n",
    "print(X_train_teacher_prefix.shape)\n",
    "print(X_test_teacher_prefix[0])"
   ]
  },
  {
   "cell_type": "markdown",
   "metadata": {},
   "source": [
    "# LSTM Models"
   ]
  },
  {
   "cell_type": "code",
   "execution_count": 49,
   "metadata": {},
   "outputs": [],
   "source": [
    "#AUC score\n",
    "def auc( y_true, y_pred ) :\n",
    "    score = tf.py_func( lambda y_true, y_pred : roc_auc_score( y_true, y_pred, average='macro', sample_weight=None).astype('float32'),\\\n",
    "                        [y_true, y_pred],'float32',stateful=True,name='sklearnAUC' )\n",
    "    return score\n",
    "\n",
    "\n",
    "def step_decay(epoch):\n",
    "    initial_lrate = 0.0001\n",
    "    drop = 1e-6\n",
    "    epochs_drop = 1\n",
    "    lrate = initial_lrate * math.pow(drop, math.floor((1+epoch)/epochs_drop))\n",
    "    return lrate"
   ]
  },
  {
   "cell_type": "markdown",
   "metadata": {},
   "source": [
    "## Model 1"
   ]
  },
  {
   "cell_type": "code",
   "execution_count": 103,
   "metadata": {},
   "outputs": [
    {
     "name": "stdout",
     "output_type": "stream",
     "text": [
      "for teacher_prefix column, the input features are :: 5\n",
      "for school_state column, the input features are :: 51\n",
      "for project_grade_category column, the input features are :: 9\n",
      "for project_subject_categories column, the input features are :: 15\n",
      "for project_subject_subcategories column, the input features are :: 37\n",
      "for total_txt column, the input features are :: 57446\n"
     ]
    }
   ],
   "source": [
    "for i in train.columns:\n",
    "    tokenizer = Tokenizer(num_words=5000)\n",
    "    tokenizer.fit_on_texts(train[i])\n",
    "    print('for ' + i +' column, the input features are :: {0}'.format(len(tokenizer.word_index)))"
   ]
  },
  {
   "cell_type": "code",
   "execution_count": 104,
   "metadata": {},
   "outputs": [],
   "source": [
    "t = Tokenizer(num_words=5000)\n",
    "t.fit_on_texts(train['total_txt'])\n",
    "total_text_features = t.word_index"
   ]
  },
  {
   "cell_type": "code",
   "execution_count": 105,
   "metadata": {
    "scrolled": true
   },
   "outputs": [
    {
     "name": "stdout",
     "output_type": "stream",
     "text": [
      "Model: \"model_7\"\n",
      "__________________________________________________________________________________________________\n",
      "Layer (type)                    Output Shape         Param #     Connected to                     \n",
      "==================================================================================================\n",
      "input_13 (InputLayer)           (None, 549)          0                                            \n",
      "__________________________________________________________________________________________________\n",
      "embedding_7 (Embedding)         (None, 549, 300)     17234100    input_13[0][0]                   \n",
      "__________________________________________________________________________________________________\n",
      "spatial_dropout1d_1 (SpatialDro (None, 549, 300)     0           embedding_7[0][0]                \n",
      "__________________________________________________________________________________________________\n",
      "input_14 (InputLayer)           (None, 1)            0                                            \n",
      "__________________________________________________________________________________________________\n",
      "input_15 (InputLayer)           (None, 1)            0                                            \n",
      "__________________________________________________________________________________________________\n",
      "input_16 (InputLayer)           (None, 1)            0                                            \n",
      "__________________________________________________________________________________________________\n",
      "input_17 (InputLayer)           (None, 1)            0                                            \n",
      "__________________________________________________________________________________________________\n",
      "input_18 (InputLayer)           (None, 1)            0                                            \n",
      "__________________________________________________________________________________________________\n",
      "lstm_7 (LSTM)                   (None, 549, 128)     219648      spatial_dropout1d_1[0][0]        \n",
      "__________________________________________________________________________________________________\n",
      "embedding_8 (Embedding)         (None, 1, 2)         4           input_14[0][0]                   \n",
      "__________________________________________________________________________________________________\n",
      "embedding_9 (Embedding)         (None, 1, 2)         4           input_15[0][0]                   \n",
      "__________________________________________________________________________________________________\n",
      "embedding_10 (Embedding)        (None, 1, 2)         4           input_16[0][0]                   \n",
      "__________________________________________________________________________________________________\n",
      "embedding_11 (Embedding)        (None, 1, 50)        100         input_17[0][0]                   \n",
      "__________________________________________________________________________________________________\n",
      "embedding_12 (Embedding)        (None, 1, 5)         10          input_18[0][0]                   \n",
      "__________________________________________________________________________________________________\n",
      "input_19 (InputLayer)           (None, 1)            0                                            \n",
      "__________________________________________________________________________________________________\n",
      "flatten_13 (Flatten)            (None, 70272)        0           lstm_7[0][0]                     \n",
      "__________________________________________________________________________________________________\n",
      "flatten_14 (Flatten)            (None, 2)            0           embedding_8[0][0]                \n",
      "__________________________________________________________________________________________________\n",
      "flatten_15 (Flatten)            (None, 2)            0           embedding_9[0][0]                \n",
      "__________________________________________________________________________________________________\n",
      "flatten_16 (Flatten)            (None, 2)            0           embedding_10[0][0]               \n",
      "__________________________________________________________________________________________________\n",
      "flatten_17 (Flatten)            (None, 50)           0           embedding_11[0][0]               \n",
      "__________________________________________________________________________________________________\n",
      "flatten_18 (Flatten)            (None, 5)            0           embedding_12[0][0]               \n",
      "__________________________________________________________________________________________________\n",
      "dense_25 (Dense)                (None, 16)           32          input_19[0][0]                   \n",
      "__________________________________________________________________________________________________\n",
      "concatenate_7 (Concatenate)     (None, 70349)        0           flatten_13[0][0]                 \n",
      "                                                                 flatten_14[0][0]                 \n",
      "                                                                 flatten_15[0][0]                 \n",
      "                                                                 flatten_16[0][0]                 \n",
      "                                                                 flatten_17[0][0]                 \n",
      "                                                                 flatten_18[0][0]                 \n",
      "                                                                 dense_25[0][0]                   \n",
      "__________________________________________________________________________________________________\n",
      "dense_26 (Dense)                (None, 128)          9004800     concatenate_7[0][0]              \n",
      "__________________________________________________________________________________________________\n",
      "dropout_16 (Dropout)            (None, 128)          0           dense_26[0][0]                   \n",
      "__________________________________________________________________________________________________\n",
      "dense_27 (Dense)                (None, 64)           8256        dropout_16[0][0]                 \n",
      "__________________________________________________________________________________________________\n",
      "dropout_17 (Dropout)            (None, 64)           0           dense_27[0][0]                   \n",
      "__________________________________________________________________________________________________\n",
      "batch_normalization_7 (BatchNor (None, 64)           256         dropout_17[0][0]                 \n",
      "__________________________________________________________________________________________________\n",
      "dense_28 (Dense)                (None, 32)           2080        batch_normalization_7[0][0]      \n",
      "__________________________________________________________________________________________________\n",
      "dropout_18 (Dropout)            (None, 32)           0           dense_28[0][0]                   \n",
      "__________________________________________________________________________________________________\n",
      "dense_29 (Dense)                (None, 2)            66          dropout_18[0][0]                 \n",
      "==================================================================================================\n",
      "Total params: 26,469,360\n",
      "Trainable params: 9,235,132\n",
      "Non-trainable params: 17,234,228\n",
      "__________________________________________________________________________________________________\n",
      "None\n"
     ]
    }
   ],
   "source": [
    "#total_txt input 1 \n",
    "input1 = Input(shape=(ln,))\n",
    "x1 = Embedding(input_dim=len(tokenizer.word_index)+1,output_dim= 300,weights=[embedding_mat(total_text_features)],trainable=False)(input1)\n",
    "x1 = SpatialDropout1D(0.3)(x1)\n",
    "x1 = LSTM(128,return_sequences=True)(x1)\n",
    "x1 = Flatten()(x1)\n",
    "\n",
    "#school_state input 2\n",
    "input2 = Input(shape=(1,))\n",
    "x2 = Embedding(input_dim= w1+1,output_dim= 2)(input2)\n",
    "x2 = Flatten()(x2)\n",
    "\n",
    "#project_grade_category input 3\n",
    "input3 = Input(shape=(1,))\n",
    "x3 = Embedding(input_dim= w2+1,output_dim= 2)(input3)\n",
    "x3 = Flatten()(x3)\n",
    "\n",
    "#project_subject_categories input 4\n",
    "input4 = Input(shape=(1,))\n",
    "x4 = Embedding(input_dim=w3+1,output_dim= 2)(input4)\n",
    "x4 = Flatten()(x4)\n",
    "\n",
    "#project_subject_subcategories input 5\n",
    "input5 = Input(shape=(1,))\n",
    "x5 = Embedding(input_dim= w4+1,output_dim= 50)(input5)\n",
    "x5 = Flatten()(x5)\n",
    "\n",
    "#teacher_prefix  input 6\n",
    "input6 = Input(shape=(1,))\n",
    "x6 = Embedding(input_dim=w5+1,output_dim= 5)(input6)\n",
    "x6 = Flatten()(x6)\n",
    "\n",
    "#remaining input layers of numerical data input 7\n",
    "input7 = Input(shape=(1,))\n",
    "x7 = Dense(16,activation='relu',kernel_initializer=he_normal(),kernel_regularizer=l2(0.0001))(input7)\n",
    "#x7 = Flatten()(x7)\n",
    "\n",
    "#merging all the inputs \n",
    "concat = concatenate([x1,x2,x3,x4,x5,x6,x7])\n",
    "#x = BatchNormalization()(concat)\n",
    "\n",
    "x = Dense(128,activation='relu',kernel_initializer=he_normal(),kernel_regularizer=l2(0.0001))(concat)\n",
    "x = Dropout(0.5)(x)\n",
    "x = Dense(64,activation='relu',kernel_initializer=he_normal(),kernel_regularizer=l2(0.0001))(x)\n",
    "x = Dropout(0.5)(x)\n",
    "x = BatchNormalization()(x)\n",
    "x = Dense(32,activation='relu',kernel_initializer=he_normal(),kernel_regularizer=l2(0.0001))(x)\n",
    "x = Dropout(0.5)(x)\n",
    "output = Dense(2, activation = 'softmax')(x)\n",
    " \n",
    "# create model with seven inputs\n",
    "model = Model([input1,input2,input3,input4,input5,input6,input7], output)\n",
    "model.compile(loss='categorical_crossentropy', optimizer=keras.optimizers.Adam(lr=0.0006,decay = 1e-4),metrics=[auc])\n",
    "#lrate = LearningRateScheduler(step_decay)\n",
    "print(model.summary())"
   ]
  },
  {
   "cell_type": "code",
   "execution_count": 107,
   "metadata": {},
   "outputs": [
    {
     "name": "stdout",
     "output_type": "stream",
     "text": [
      "Train on 61178 samples, validate on 15295 samples\n",
      "Epoch 1/15\n",
      "61178/61178 [==============================] - 138s 2ms/step - loss: 0.6244 - auc: 0.5014 - val_loss: 0.4878 - val_auc: 0.5808\n",
      "Epoch 2/15\n",
      "61178/61178 [==============================] - 137s 2ms/step - loss: 0.5038 - auc: 0.5264 - val_loss: 0.4616 - val_auc: 0.5844\n",
      "Epoch 3/15\n",
      "61178/61178 [==============================] - 137s 2ms/step - loss: 0.4736 - auc: 0.5310 - val_loss: 0.4544 - val_auc: 0.5971\n",
      "Epoch 4/15\n",
      "61178/61178 [==============================] - 137s 2ms/step - loss: 0.4575 - auc: 0.5493 - val_loss: 0.4587 - val_auc: 0.6137\n",
      "Epoch 5/15\n",
      "61178/61178 [==============================] - 135s 2ms/step - loss: 0.4421 - auc: 0.5947 - val_loss: 0.4318 - val_auc: 0.6523\n",
      "Epoch 6/15\n",
      "61178/61178 [==============================] - 135s 2ms/step - loss: 0.4299 - auc: 0.6380 - val_loss: 0.4099 - val_auc: 0.7044\n",
      "Epoch 7/15\n",
      "61178/61178 [==============================] - 134s 2ms/step - loss: 0.4196 - auc: 0.6683 - val_loss: 0.4014 - val_auc: 0.7271\n",
      "Epoch 8/15\n",
      "61178/61178 [==============================] - 133s 2ms/step - loss: 0.4103 - auc: 0.6932 - val_loss: 0.3989 - val_auc: 0.7392\n",
      "Epoch 9/15\n",
      "61178/61178 [==============================] - 134s 2ms/step - loss: 0.4052 - auc: 0.7051 - val_loss: 0.3940 - val_auc: 0.7473\n",
      "Epoch 10/15\n",
      "61178/61178 [==============================] - 132s 2ms/step - loss: 0.4008 - auc: 0.7150 - val_loss: 0.3945 - val_auc: 0.7510\n",
      "Epoch 11/15\n",
      "61178/61178 [==============================] - 134s 2ms/step - loss: 0.3978 - auc: 0.7190 - val_loss: 0.3906 - val_auc: 0.7537\n",
      "Epoch 12/15\n",
      "61178/61178 [==============================] - 133s 2ms/step - loss: 0.3956 - auc: 0.7257 - val_loss: 0.3857 - val_auc: 0.7532\n",
      "Epoch 13/15\n",
      "61178/61178 [==============================] - 134s 2ms/step - loss: 0.3911 - auc: 0.7327 - val_loss: 0.3841 - val_auc: 0.7571\n",
      "Epoch 14/15\n",
      "61178/61178 [==============================] - 132s 2ms/step - loss: 0.3887 - auc: 0.7399 - val_loss: 0.3809 - val_auc: 0.7561\n",
      "Epoch 15/15\n",
      "61178/61178 [==============================] - 132s 2ms/step - loss: 0.3861 - auc: 0.7401 - val_loss: 0.3823 - val_auc: 0.7598\n"
     ]
    }
   ],
   "source": [
    "#https://machinelearningmastery.com/check-point-deep-learning-models-keras/\n",
    "from keras.callbacks import TensorBoard\n",
    "filepath=\"weights_copy.best.hdf5\"\n",
    "#checkpoint = ModelCheckpoint(filepath, monitor='val_auc', verbose=1, save_best_only=True, mode='max')\n",
    "#callbacks_list = [checkpoint,TensorBoard(log_dir='logs/{}'.format(time()))]\n",
    "history=model.fit([X_train_txt,X_train_school_state,X_train_project_grade,X_train_project_cat,X_train_project_subcat,\\\n",
    "           X_train_teacher_prefix,remain_train], y_train, nb_epoch=15,verbose=1,batch_size=256,\\\n",
    "          validation_data=([X_cv_txt,X_cv_school_state,X_cv_project_grade,X_cv_project_cat,X_cv_project_subcat,\\\n",
    "           X_cv_teacher_prefix,remain_cv]  , y_cv), class_weight = class_wght )#, callbacks =callbacks_list"
   ]
  },
  {
   "cell_type": "code",
   "execution_count": 108,
   "metadata": {},
   "outputs": [
    {
     "data": {
      "image/png": "[encoded data removed]",
      "text/plain": [
       "<Figure size 432x288 with 1 Axes>"
      ]
     },
     "metadata": {
      "needs_background": "light"
     },
     "output_type": "display_data"
    }
   ],
   "source": [
    "%matplotlib inline\n",
    "import matplotlib.pyplot as plt\n",
    "import numpy as np\n",
    "import time\n",
    "\n",
    "def plt_dynamic(x, vy, ty, ax, colors=['b']):\n",
    "    ax.plot(x, vy, 'b', label=\"Validation Loss\")\n",
    "    ax.plot(x, ty, 'r', label=\"Train Loss\")\n",
    "    plt.legend()\n",
    "    plt.grid()\n",
    "    fig.canvas.draw()\n",
    "    \n",
    "nb_epoch=15\n",
    "fig,ax = plt.subplots(1,1)\n",
    "ax.set_xlabel('epoch') \n",
    "ax.set_ylabel('Categorical Crossentropy Loss')\n",
    "\n",
    "# list of epoch numbers\n",
    "x = list(range(1,nb_epoch+1))\n",
    "vy = history.history['val_loss']\n",
    "ty = history.history['loss']\n",
    "plt_dynamic(x, vy, ty, ax)"
   ]
  },
  {
   "cell_type": "code",
   "execution_count": 77,
   "metadata": {},
   "outputs": [],
   "source": [
    "#https://bicepjai.github.io/machine-learning/2016/08/22/tensorboard-on-gcloud.html\n",
    "# create model with seven inputs\n",
    "model = Model([input1,input2,input3,input4,input5,input6,input7], output)\n",
    "tensorboard = TensorBoard(log_dir='logs/{}'.format(time()))\n",
    "model.compile(loss='categorical_crossentropy', optimizer=keras.optimizers.Adam(lr=0.0006,decay = 1e-4),metrics=[auc])\n",
    "model.load_weights(\"weights_copy.best.hdf5\")"
   ]
  },
  {
   "cell_type": "code",
   "execution_count": 109,
   "metadata": {},
   "outputs": [],
   "source": [
    "y_pred_train=model.predict([X_train_txt,X_train_school_state,X_train_project_grade,X_train_project_cat,X_train_project_subcat, X_train_teacher_prefix,remain_train])\n",
    "y_pred_cv = model.predict([X_cv_txt,X_cv_school_state,X_cv_project_grade,X_cv_project_cat,X_cv_project_subcat,X_cv_teacher_prefix,remain_cv])\n",
    "y_pred_test = model.predict([X_test_txt,X_test_school_state,X_test_project_grade,X_test_project_cat,X_test_project_subcat,X_test_teacher_prefix,remain_test])"
   ]
  },
  {
   "cell_type": "code",
   "execution_count": 110,
   "metadata": {},
   "outputs": [
    {
     "name": "stdout",
     "output_type": "stream",
     "text": [
      "Auc score on test data: 0.750\n",
      "Auc score on CV data: 0.760\n",
      "Auc score on train data: 0.780\n"
     ]
    }
   ],
   "source": [
    "print(\"Auc score on test data: %0.3f\"%roc_auc_score(y_test,y_pred_test))\n",
    "print(\"Auc score on CV data: %0.3f\"%roc_auc_score(y_cv,y_pred_cv))\n",
    "print(\"Auc score on train data: %0.3f\"%roc_auc_score(y_train,y_pred_train))"
   ]
  },
  {
   "cell_type": "code",
   "execution_count": null,
   "metadata": {},
   "outputs": [],
   "source": []
  },
  {
   "cell_type": "markdown",
   "metadata": {},
   "source": [
    "# Creating 3rd type of model with CnNNLSTM and CONV1D"
   ]
  },
  {
   "cell_type": "code",
   "execution_count": 53,
   "metadata": {},
   "outputs": [
    {
     "data": {
      "text/plain": [
       "((61178, 7), (32775, 7), (15295, 7), (61178,), (32775,), (15295,))"
      ]
     },
     "execution_count": 53,
     "metadata": {},
     "output_type": "execute_result"
    }
   ],
   "source": [
    "#def split_dataset(dataframe):\n",
    "col_names = project_data.columns\n",
    "train,test,y_train,y_test = train_test_split(project_data, class_label , stratify = class_label,test_size = 0.3)\n",
    "train,cv,y_train,y_cv = train_test_split(train,y_train,stratify = y_train,test_size = 0.2)\n",
    "\n",
    "train.shape,test.shape,cv.shape,y_train.shape,y_test.shape,y_cv.shape"
   ]
  },
  {
   "cell_type": "code",
   "execution_count": 54,
   "metadata": {},
   "outputs": [],
   "source": [
    "remain_train =train['remaining_input']\n",
    "remain_test = test['remaining_input']\n",
    "remain_cv= cv['remaining_input']\n",
    "\n",
    "train.drop(['remaining_input'], axis=1,inplace=True)\n",
    "test.drop(['remaining_input'], axis=1,inplace=True)\n",
    "cv.drop(['remaining_input'], axis=1,inplace=True)"
   ]
  },
  {
   "cell_type": "code",
   "execution_count": 55,
   "metadata": {},
   "outputs": [
    {
     "data": {
      "text/html": [
       "<div>\n",
       "<style scoped>\n",
       "    .dataframe tbody tr th:only-of-type {\n",
       "        vertical-align: middle;\n",
       "    }\n",
       "\n",
       "    .dataframe tbody tr th {\n",
       "        vertical-align: top;\n",
       "    }\n",
       "\n",
       "    .dataframe thead th {\n",
       "        text-align: right;\n",
       "    }\n",
       "</style>\n",
       "<table border=\"1\" class=\"dataframe\">\n",
       "  <thead>\n",
       "    <tr style=\"text-align: right;\">\n",
       "      <th></th>\n",
       "      <th>teacher_prefix</th>\n",
       "      <th>school_state</th>\n",
       "      <th>project_grade_category</th>\n",
       "      <th>project_subject_categories</th>\n",
       "      <th>project_subject_subcategories</th>\n",
       "      <th>total_txt</th>\n",
       "    </tr>\n",
       "  </thead>\n",
       "  <tbody>\n",
       "    <tr>\n",
       "      <th>66024</th>\n",
       "      <td>ms</td>\n",
       "      <td>wi</td>\n",
       "      <td>grades_9_12</td>\n",
       "      <td>literacy_language</td>\n",
       "      <td>literacy_literature_writing</td>\n",
       "      <td>A Notebook of One's Own: Pensive Personal Penn...</td>\n",
       "    </tr>\n",
       "    <tr>\n",
       "      <th>9077</th>\n",
       "      <td>ms</td>\n",
       "      <td>co</td>\n",
       "      <td>grades_9_12</td>\n",
       "      <td>literacy_language</td>\n",
       "      <td>literacy</td>\n",
       "      <td>Fantastic Seats and Where to Find Them I teach...</td>\n",
       "    </tr>\n",
       "  </tbody>\n",
       "</table>\n",
       "</div>"
      ],
      "text/plain": [
       "      teacher_prefix school_state project_grade_category  \\\n",
       "66024             ms           wi            grades_9_12   \n",
       "9077              ms           co            grades_9_12   \n",
       "\n",
       "      project_subject_categories project_subject_subcategories  \\\n",
       "66024          literacy_language   literacy_literature_writing   \n",
       "9077           literacy_language                      literacy   \n",
       "\n",
       "                                               total_txt  \n",
       "66024  A Notebook of One's Own: Pensive Personal Penn...  \n",
       "9077   Fantastic Seats and Where to Find Them I teach...  "
      ]
     },
     "execution_count": 55,
     "metadata": {},
     "output_type": "execute_result"
    }
   ],
   "source": [
    "train.head(2)"
   ]
  },
  {
   "cell_type": "markdown",
   "metadata": {},
   "source": [
    "<img src='https://i.imgur.com/fkQ8nGo.png'>\n",
    "ref: https://i.imgur.com/fkQ8nGo.png"
   ]
  },
  {
   "cell_type": "code",
   "execution_count": 269,
   "metadata": {},
   "outputs": [
    {
     "data": {
      "text/html": [
       "<div>\n",
       "<style scoped>\n",
       "    .dataframe tbody tr th:only-of-type {\n",
       "        vertical-align: middle;\n",
       "    }\n",
       "\n",
       "    .dataframe tbody tr th {\n",
       "        vertical-align: top;\n",
       "    }\n",
       "\n",
       "    .dataframe thead th {\n",
       "        text-align: right;\n",
       "    }\n",
       "</style>\n",
       "<table border=\"1\" class=\"dataframe\">\n",
       "  <thead>\n",
       "    <tr style=\"text-align: right;\">\n",
       "      <th></th>\n",
       "      <th>teacher_prefix</th>\n",
       "      <th>school_state</th>\n",
       "      <th>project_grade_category</th>\n",
       "      <th>project_subject_categories</th>\n",
       "      <th>project_subject_subcategories</th>\n",
       "      <th>total_txt</th>\n",
       "    </tr>\n",
       "  </thead>\n",
       "  <tbody>\n",
       "    <tr>\n",
       "      <th>22977</th>\n",
       "      <td>ms</td>\n",
       "      <td>oh</td>\n",
       "      <td>grades_prek_2</td>\n",
       "      <td>literacy_language_math_science</td>\n",
       "      <td>literature_writing_mathematics</td>\n",
       "      <td>Kinder Kids Need Supplies! My students are in ...</td>\n",
       "    </tr>\n",
       "    <tr>\n",
       "      <th>18722</th>\n",
       "      <td>ms</td>\n",
       "      <td>wa</td>\n",
       "      <td>grades_3_5</td>\n",
       "      <td>literacy_language</td>\n",
       "      <td>esl_literacy</td>\n",
       "      <td>Multicultural books for multicultural students...</td>\n",
       "    </tr>\n",
       "  </tbody>\n",
       "</table>\n",
       "</div>"
      ],
      "text/plain": [
       "      teacher_prefix school_state project_grade_category  \\\n",
       "22977             ms           oh          grades_prek_2   \n",
       "18722             ms           wa             grades_3_5   \n",
       "\n",
       "           project_subject_categories   project_subject_subcategories  \\\n",
       "22977  literacy_language_math_science  literature_writing_mathematics   \n",
       "18722               literacy_language                    esl_literacy   \n",
       "\n",
       "                                               total_txt  \n",
       "22977  Kinder Kids Need Supplies! My students are in ...  \n",
       "18722  Multicultural books for multicultural students...  "
      ]
     },
     "execution_count": 269,
     "metadata": {},
     "output_type": "execute_result"
    }
   ],
   "source": [
    "train.head(2)"
   ]
  },
  {
   "cell_type": "code",
   "execution_count": 57,
   "metadata": {},
   "outputs": [],
   "source": [
    "X_train=pd.DataFrame()\n",
    "X_test=pd.DataFrame()\n",
    "X_cv=pd.DataFrame()"
   ]
  },
  {
   "cell_type": "code",
   "execution_count": 58,
   "metadata": {},
   "outputs": [],
   "source": [
    "from keras.preprocessing.text import Tokenizer\n",
    "#https://machinelearningmastery.com/prepare-text-data-deep-learning-keras/\n",
    "#for i in train.columns:\n",
    "tokenizer = Tokenizer(num_words=5000)\n",
    "tokenizer.fit_on_texts(train['total_txt'])\n",
    "#Based on the train data we shall extract the topwords and assign ranking.\n",
    "X_train['total_txt'] = tokenizer.texts_to_sequences(train['total_txt'])\n",
    "X_test['total_txt'] =tokenizer.texts_to_sequences(test['total_txt'])\n",
    "X_cv['total_txt'] =tokenizer.texts_to_sequences(cv['total_txt'])"
   ]
  },
  {
   "cell_type": "code",
   "execution_count": 60,
   "metadata": {
    "scrolled": true
   },
   "outputs": [],
   "source": [
    "r=list()\n",
    "for i in train['total_txt']:\n",
    "    r.append(len(pd.Series(i).str.split()[0]))\n",
    "\n",
    "length=max(r)"
   ]
  },
  {
   "cell_type": "code",
   "execution_count": 61,
   "metadata": {},
   "outputs": [
    {
     "name": "stdout",
     "output_type": "stream",
     "text": [
      "(61178, 549)\n",
      "[   0    0    0    0    0    0    0    0    0    0    0    0    0    0\n",
      "    0    0    0    0    0    0    0    0    0    0    0    0    0    0\n",
      "    0    0    0    0    0    0    0    0    0    0    0    0    0    0\n",
      "    0    0    0    0    0    0    0    0    0    0    0    0    0    0\n",
      "    0    0    0    0    0    0    0    0    0    0    0    0    0    0\n",
      "    0    0    0    0    0    0    0    0    0    0    0    0    0    0\n",
      "    0    0    0    0    0    0    0    0    0    0    0    0    0    0\n",
      "    0    0    0    0    0    0    0    0    0    0    0    0    0    0\n",
      "    0    0    0    0    0    0    0    0    0    0    0    0    0    0\n",
      "    0    0    0    0    0    0    0    0    0    0    0    0    0    0\n",
      "    0    0    0    0    0    0    0    0    0    0    0    0    0    0\n",
      "    0    0    0    0    0    0    0    0    0    0    0    0    0    0\n",
      "    0    0    0    0    0    0    0    0    0    0    0    0    0    0\n",
      "    0    0    0    0    0    0    0    0    0    0    0    0    0    0\n",
      "    0    0    0    0    0    0    0    0    0    0    0    0    0    0\n",
      "    0    0    0    0    0    0    0    0    0    0    0    0    0    0\n",
      "    0    0    0    0    0    0    0    0    0    0    0    0    0    0\n",
      "    0    0    0    0    0    0    0    0    0    0    0    0    0    0\n",
      "    0    0    0    0    0    0    0    0    0    0    0    0    0    0\n",
      "    0    0    0    0    0    0    0    0    0    0    0    0    0 1220\n",
      "   27 2156    4   77  162    7    4  510  106   15   28   85   54  257\n",
      "    6  121  209    1   34    2  157   14   88   20    8  652   14   23\n",
      "   17   54   16  616   23   71   20    3  110  200   51    8    3  413\n",
      "   84    2   11 4437   24   10   16  337    8    7    4    2   16   69\n",
      "   23    1  144    2  172   17    9   25    9  178   96   37    5  475\n",
      "  184   16   21    8 2908   99 2218  809    6   15    4  206  124  404\n",
      "    2  149    9   25    9 1522    3  114  121    6   41    6    7    4\n",
      "    7    4  744   15   28  140  167    1   34    2  209   58   12  110\n",
      "    3    4   16   96  604    1   34   38   17   11   33    1  160  182\n",
      "   73   54   16  604    1   58   38   17   20  376    7  865    1   32\n",
      "   23    9   25    9   25    9   25    9   25    9 3512   27    8    5\n",
      "  133   99  545   20  916 1306   91    1   22  195  109  207   16  604\n",
      "   14    7    4    1  210 1334   12  134  265    2  433    9   25    9\n",
      " 2411   35 1220  386  478   18  259 1040    4   13   22   52    1  549\n",
      " 2036    2 1048   12  134 3087    6 2406 2662    9   25    9   25 2156\n",
      "    4   77  162   20  174   43  390 4781   31   20   89   16 1470    7\n",
      "  260    8   21  326  585   93   16  604   38    7    4    1   19  126\n",
      "   27    8   60    2  390  221   27   77  158   20   89    4   34    2\n",
      "  160   44  247  105   47    7    4   26 1220  386 1515    2   53 2156\n",
      "    4   77  162]\n"
     ]
    }
   ],
   "source": [
    "max_review_length = length\n",
    "X_train_txt = pad_sequences(X_train['total_txt'], maxlen=max_review_length)  #padding zeros at the begining of each review to make max len as 200\n",
    "X_test_txt = pad_sequences(X_test['total_txt'], maxlen=max_review_length)\n",
    "X_cv_txt = pad_sequences(X_cv['total_txt'], maxlen=max_review_length)\n",
    "print(X_train_txt.shape)\n",
    "print(X_train_txt[256])"
   ]
  },
  {
   "cell_type": "markdown",
   "metadata": {},
   "source": [
    "### One hot encoding to all the categorical values"
   ]
  },
  {
   "cell_type": "code",
   "execution_count": 62,
   "metadata": {},
   "outputs": [
    {
     "name": "stdout",
     "output_type": "stream",
     "text": [
      "(61178, 51)\n",
      "(61178, 4)\n",
      "(61178, 51)\n",
      "(61178, 385)\n",
      "(61178, 5)\n"
     ]
    }
   ],
   "source": [
    "vect = CountVectorizer()\n",
    "school_state_train = vect.fit_transform(train['school_state'])\n",
    "school_state_test = vect.transform(test['school_state'])\n",
    "school_state_cv = vect.transform(cv['school_state'])\n",
    "ss1=school_state_train.shape[1]\n",
    "print(school_state_train.shape)\n",
    "\n",
    "vect = CountVectorizer()\n",
    "project_grade_train = vect.fit_transform(train['project_grade_category'])\n",
    "project_grade_test = vect.transform(test['project_grade_category'])\n",
    "project_grade_cv = vect.transform(cv['project_grade_category'])\n",
    "ss2=project_grade_train.shape[1]\n",
    "print(project_grade_train.shape)\n",
    "\n",
    "vect = CountVectorizer()\n",
    "project_cat_train = vect.fit_transform(train['project_subject_categories'])\n",
    "project_cat_test = vect.transform(test['project_subject_categories'])\n",
    "project_cat_cv = vect.transform(cv['project_subject_categories'])\n",
    "ss3=project_cat_train.shape[1]\n",
    "print(project_cat_train.shape)\n",
    "\n",
    "vect = CountVectorizer()\n",
    "project_subcat_train = vect.fit_transform(train['project_subject_subcategories'])\n",
    "project_subcat_test = vect.transform(test['project_subject_subcategories'])\n",
    "project_subcat_cv = vect.transform(cv['project_subject_subcategories'])\n",
    "ss4=project_subcat_train.shape[1]\n",
    "print(project_subcat_train.shape)\n",
    "\n",
    "vect = CountVectorizer()\n",
    "teacher_prefix_train = vect.fit_transform(train['teacher_prefix'])\n",
    "teacher_prefix_test = vect.transform(test['teacher_prefix'])\n",
    "teacher_prefix_cv = vect.transform(cv['teacher_prefix'])\n",
    "ss5=teacher_prefix_train.shape[1]\n",
    "print(teacher_prefix_train.shape)"
   ]
  },
  {
   "cell_type": "code",
   "execution_count": 63,
   "metadata": {},
   "outputs": [],
   "source": [
    "from scipy.sparse import hstack \n",
    "exp_train = hstack((school_state_train,project_grade_train,project_cat_train,project_subcat_train,teacher_prefix_train,remain_train[:,None]))\n",
    "exp_cv = hstack((school_state_cv,project_grade_cv,project_cat_cv,project_subcat_cv,teacher_prefix_cv,remain_cv[:,None]))\n",
    "exp_test = hstack((school_state_test,project_grade_test,project_cat_test,project_subcat_test,teacher_prefix_test,remain_test[:,None]))"
   ]
  },
  {
   "cell_type": "code",
   "execution_count": 65,
   "metadata": {
    "scrolled": true
   },
   "outputs": [],
   "source": [
    "other_train=exp_train.todense()\n",
    "other_test = exp_test.todense()\n",
    "other_cv = exp_cv.todense()\n",
    "\n",
    "\n",
    "other_train = np.resize(other_train,new_shape=(61178,497,1))\n",
    "other_test =np.resize(other_test,new_shape=(32775,497,1))\n",
    "other_cv = np.resize(other_cv,new_shape=(15295,497,1))"
   ]
  },
  {
   "cell_type": "code",
   "execution_count": 66,
   "metadata": {},
   "outputs": [
    {
     "data": {
      "text/plain": [
       "(15295, 497, 1)"
      ]
     },
     "execution_count": 66,
     "metadata": {},
     "output_type": "execute_result"
    }
   ],
   "source": [
    "other_cv.shape"
   ]
  },
  {
   "cell_type": "code",
   "execution_count": 81,
   "metadata": {},
   "outputs": [],
   "source": [
    "#converting class labels to categorical variables\n",
    "from keras.utils import to_categorical\n",
    "y_train = to_categorical(y_train)\n",
    "y_test = to_categorical(y_test)\n",
    "y_cv = to_categorical(y_cv)"
   ]
  },
  {
   "cell_type": "code",
   "execution_count": 67,
   "metadata": {
    "scrolled": true
   },
   "outputs": [
    {
     "name": "stdout",
     "output_type": "stream",
     "text": [
      "for teacher_prefix column, the input features are :: 5\n",
      "for school_state column, the input features are :: 51\n",
      "for project_grade_category column, the input features are :: 9\n",
      "for project_subject_categories column, the input features are :: 15\n",
      "for project_subject_subcategories column, the input features are :: 37\n",
      "for total_txt column, the input features are :: 57414\n"
     ]
    }
   ],
   "source": [
    "for i in train.columns:\n",
    "    tokenizer = Tokenizer(num_words=5000)\n",
    "    tokenizer.fit_on_texts(train[i])\n",
    "    print('for ' + i +' column, the input features are :: {0}'.format(len(tokenizer.word_index)))"
   ]
  },
  {
   "cell_type": "code",
   "execution_count": 68,
   "metadata": {},
   "outputs": [],
   "source": [
    "t = Tokenizer(num_words=5000)\n",
    "t.fit_on_texts(train['total_txt'])\n",
    "total_text_features = t.word_index"
   ]
  },
  {
   "cell_type": "code",
   "execution_count": 83,
   "metadata": {},
   "outputs": [
    {
     "name": "stdout",
     "output_type": "stream",
     "text": [
      "WARNING:tensorflow:Large dropout rate: 0.6 (>0.5). In TensorFlow 2.x, dropout() uses dropout rate instead of keep_prob. Please ensure that this is intended.\n",
      "Model: \"model_6\"\n",
      "__________________________________________________________________________________________________\n",
      "Layer (type)                    Output Shape         Param #     Connected to                     \n",
      "==================================================================================================\n",
      "input_11 (InputLayer)           (None, 549)          0                                            \n",
      "__________________________________________________________________________________________________\n",
      "input_12 (InputLayer)           (None, 497, 1)       0                                            \n",
      "__________________________________________________________________________________________________\n",
      "embedding_6 (Embedding)         (None, 549, 300)     17224500    input_11[0][0]                   \n",
      "__________________________________________________________________________________________________\n",
      "conv1d_11 (Conv1D)              (None, 495, 64)      256         input_12[0][0]                   \n",
      "__________________________________________________________________________________________________\n",
      "lstm_6 (LSTM)                   (None, 549, 256)     570368      embedding_6[0][0]                \n",
      "__________________________________________________________________________________________________\n",
      "conv1d_12 (Conv1D)              (None, 493, 64)      12352       conv1d_11[0][0]                  \n",
      "__________________________________________________________________________________________________\n",
      "flatten_11 (Flatten)            (None, 140544)       0           lstm_6[0][0]                     \n",
      "__________________________________________________________________________________________________\n",
      "flatten_12 (Flatten)            (None, 31552)        0           conv1d_12[0][0]                  \n",
      "__________________________________________________________________________________________________\n",
      "concatenate_6 (Concatenate)     (None, 172096)       0           flatten_11[0][0]                 \n",
      "                                                                 flatten_12[0][0]                 \n",
      "__________________________________________________________________________________________________\n",
      "dense_21 (Dense)                (None, 300)          51629100    concatenate_6[0][0]              \n",
      "__________________________________________________________________________________________________\n",
      "dropout_13 (Dropout)            (None, 300)          0           dense_21[0][0]                   \n",
      "__________________________________________________________________________________________________\n",
      "dense_22 (Dense)                (None, 256)          77056       dropout_13[0][0]                 \n",
      "__________________________________________________________________________________________________\n",
      "dropout_14 (Dropout)            (None, 256)          0           dense_22[0][0]                   \n",
      "__________________________________________________________________________________________________\n",
      "batch_normalization_6 (BatchNor (None, 256)          1024        dropout_14[0][0]                 \n",
      "__________________________________________________________________________________________________\n",
      "dense_23 (Dense)                (None, 128)          32896       batch_normalization_6[0][0]      \n",
      "__________________________________________________________________________________________________\n",
      "dropout_15 (Dropout)            (None, 128)          0           dense_23[0][0]                   \n",
      "__________________________________________________________________________________________________\n",
      "dense_24 (Dense)                (None, 2)            258         dropout_15[0][0]                 \n",
      "==================================================================================================\n",
      "Total params: 69,547,810\n",
      "Trainable params: 52,322,798\n",
      "Non-trainable params: 17,225,012\n",
      "__________________________________________________________________________________________________\n",
      "None\n"
     ]
    }
   ],
   "source": [
    "input1 = Input(batch_shape=(None,549))\n",
    "x1 = Embedding(input_dim=len(tokenizer.word_index)+1,output_dim= 300,weights=[embedding_mat(total_text_features)],trainable = False)(input1)\n",
    "x1 = LSTM(256,return_sequences=True)(x1)\n",
    "x1 = Flatten()(x1)\n",
    "\n",
    "# input 2\n",
    "input2 = Input(shape=(497,1))\n",
    "x2 = Conv1D(filters=64,kernel_size=3,strides=1)(input2)\n",
    "x2 = Conv1D(filters=64,kernel_size=3,strides=1)(x2)\n",
    "x2 = Flatten()(x2)\n",
    "\n",
    "# merging both the inputs\n",
    "concat = concatenate([x1,x2])\n",
    "x = Dense(300,activation='relu',kernel_initializer=he_normal(),kernel_regularizer=l2(0.0001))(concat)\n",
    "x = Dropout(0.4)(x)\n",
    "x = Dense(256,activation='relu',kernel_initializer=he_normal(),kernel_regularizer=l2(0.0001))(x)\n",
    "x = Dropout(0.5)(x)\n",
    "x = BatchNormalization()(x)\n",
    "x = Dense(128,activation='relu',kernel_initializer=he_normal(),kernel_regularizer=l2(0.0001))(x)\n",
    "x = Dropout(0.6)(x)\n",
    "output = Dense(2, activation = 'softmax')(x)\n",
    " \n",
    "# create model with two inputs\n",
    "model = Model([input1,input2], output)\n",
    "model.compile(loss='categorical_crossentropy', optimizer=keras.optimizers.adam(lr=0.0006,decay = 1e-4), metrics=[auc])\n",
    "print(model.summary())"
   ]
  },
  {
   "cell_type": "code",
   "execution_count": 80,
   "metadata": {},
   "outputs": [
    {
     "data": {
      "text/plain": [
       "(15295, 549)"
      ]
     },
     "execution_count": 80,
     "metadata": {},
     "output_type": "execute_result"
    }
   ],
   "source": [
    "X_cv_txt.shape"
   ]
  },
  {
   "cell_type": "code",
   "execution_count": 85,
   "metadata": {},
   "outputs": [
    {
     "name": "stdout",
     "output_type": "stream",
     "text": [
      "Train on 61178 samples, validate on 15295 samples\n",
      "Epoch 1/13\n",
      "61178/61178 [==============================] - 146s 2ms/step - loss: 0.7356 - auc: 0.5158 - val_loss: 0.6210 - val_auc: 0.5292\n",
      "Epoch 2/13\n",
      "61178/61178 [==============================] - 142s 2ms/step - loss: 0.5814 - auc: 0.5164 - val_loss: 0.6023 - val_auc: 0.4956\n",
      "Epoch 3/13\n",
      "61178/61178 [==============================] - 141s 2ms/step - loss: 0.5253 - auc: 0.5202 - val_loss: 0.5636 - val_auc: 0.5214\n",
      "Epoch 4/13\n",
      "61178/61178 [==============================] - 141s 2ms/step - loss: 0.4916 - auc: 0.5842 - val_loss: 0.5473 - val_auc: 0.6727\n",
      "Epoch 5/13\n",
      "61178/61178 [==============================] - 140s 2ms/step - loss: 0.4568 - auc: 0.6987 - val_loss: 0.5648 - val_auc: 0.7294\n",
      "Epoch 6/13\n",
      "61178/61178 [==============================] - 141s 2ms/step - loss: 0.4376 - auc: 0.7368 - val_loss: 0.5340 - val_auc: 0.7499\n",
      "Epoch 7/13\n",
      "61178/61178 [==============================] - 140s 2ms/step - loss: 0.4228 - auc: 0.7509 - val_loss: 0.4928 - val_auc: 0.7533\n",
      "Epoch 8/13\n",
      "61178/61178 [==============================] - 139s 2ms/step - loss: 0.4167 - auc: 0.7588 - val_loss: 0.5214 - val_auc: 0.7616\n",
      "Epoch 9/13\n",
      "61178/61178 [==============================] - 138s 2ms/step - loss: 0.4137 - auc: 0.7674 - val_loss: 0.4698 - val_auc: 0.7613\n",
      "Epoch 10/13\n",
      "61178/61178 [==============================] - 137s 2ms/step - loss: 0.4189 - auc: 0.7677 - val_loss: 0.4467 - val_auc: 0.7620\n",
      "Epoch 11/13\n",
      "61178/61178 [==============================] - 139s 2ms/step - loss: 0.4116 - auc: 0.7808 - val_loss: 0.5039 - val_auc: 0.7663\n",
      "Epoch 12/13\n",
      "61178/61178 [==============================] - 137s 2ms/step - loss: 0.3975 - auc: 0.7924 - val_loss: 0.5345 - val_auc: 0.7649\n",
      "Epoch 13/13\n",
      "61178/61178 [==============================] - 138s 2ms/step - loss: 0.3927 - auc: 0.8023 - val_loss: 0.4777 - val_auc: 0.7625\n"
     ]
    }
   ],
   "source": [
    "#model fitting\n",
    "filepath=\"weights_3.best_copy.hdf5\"\n",
    "checkpoint = ModelCheckpoint(filepath, monitor='val_auc', verbose=1, save_best_only=True, mode='max')\n",
    "#tensorboard = TensorBoard(log_dir='logs/{}'.format(time()))\n",
    "#callbacks_list = [checkpoint,tensorboard]\n",
    "#my_callbacks = [EarlyStopping(monitor='auc', patience=300, verbose=1, mode='max')]\n",
    "history=model.fit([X_train_txt,other_train], y_train, nb_epoch=13,verbose=1,batch_size=256,\\\n",
    "          validation_data=([X_cv_txt,other_cv], y_cv),class_weight = \"balanced\")#,callbacks = callbacks_list"
   ]
  },
  {
   "cell_type": "code",
   "execution_count": 86,
   "metadata": {},
   "outputs": [
    {
     "data": {
      "image/png": "[encoded data removed]",
      "text/plain": [
       "<Figure size 432x288 with 1 Axes>"
      ]
     },
     "metadata": {
      "needs_background": "light"
     },
     "output_type": "display_data"
    }
   ],
   "source": [
    "%matplotlib inline\n",
    "import matplotlib.pyplot as plt\n",
    "import numpy as np\n",
    "import time\n",
    "\n",
    "def plt_dynamic(x, vy, ty, ax, colors=['b']):\n",
    "    ax.plot(x, vy, 'b', label=\"Validation Loss\")\n",
    "    ax.plot(x, ty, 'r', label=\"Train Loss\")\n",
    "    plt.legend()\n",
    "    plt.grid()\n",
    "    fig.canvas.draw()\n",
    "    \n",
    "nb_epoch=13\n",
    "fig,ax = plt.subplots(1,1)\n",
    "ax.set_xlabel('epoch') \n",
    "ax.set_ylabel('Categorical Crossentropy Loss')\n",
    "\n",
    "# list of epoch numbers\n",
    "x = list(range(1,nb_epoch+1))\n",
    "vy = history.history['val_loss']\n",
    "ty = history.history['loss']\n",
    "plt_dynamic(x, vy, ty, ax)"
   ]
  },
  {
   "cell_type": "code",
   "execution_count": 87,
   "metadata": {
    "scrolled": true
   },
   "outputs": [
    {
     "name": "stdout",
     "output_type": "stream",
     "text": [
      "Auc score on test data: 0.762\n",
      "Auc score on CV data: 0.761\n",
      "Auc score on train data: 0.833\n"
     ]
    }
   ],
   "source": [
    "print(\"Auc score on test data: %0.3f\"%roc_auc_score(y_test,model.predict([X_test_txt,other_test])))\n",
    "print(\"Auc score on CV data: %0.3f\"%roc_auc_score(y_cv,model.predict([X_cv_txt,other_cv])))\n",
    "print(\"Auc score on train data: %0.3f\"%roc_auc_score(y_train,model.predict([X_train_txt,other_train])))"
   ]
  },
  {
   "cell_type": "code",
   "execution_count": null,
   "metadata": {},
   "outputs": [],
   "source": []
  },
  {
   "cell_type": "markdown",
   "metadata": {},
   "source": [
    "# Creating 2nd type of model with TFIDF values"
   ]
  },
  {
   "cell_type": "code",
   "execution_count": 50,
   "metadata": {},
   "outputs": [
    {
     "data": {
      "text/plain": [
       "((61178, 7), (32775, 7), (15295, 7), (61178,), (32775,), (15295,))"
      ]
     },
     "execution_count": 50,
     "metadata": {},
     "output_type": "execute_result"
    }
   ],
   "source": [
    "col_names = project_data.columns #, stratify = class_label #,stratify = y_train\n",
    "train,test,y_train,y_test = train_test_split(project_data, class_label ,test_size = 0.3 , shuffle= False)\n",
    "train,cv,y_train,y_cv = train_test_split(train,y_train,test_size = 0.2,shuffle = False)\n",
    "\n",
    "train.shape,test.shape,cv.shape,y_train.shape,y_test.shape,y_cv.shape"
   ]
  },
  {
   "cell_type": "code",
   "execution_count": 51,
   "metadata": {},
   "outputs": [
    {
     "data": {
      "text/html": [
       "<div>\n",
       "<style scoped>\n",
       "    .dataframe tbody tr th:only-of-type {\n",
       "        vertical-align: middle;\n",
       "    }\n",
       "\n",
       "    .dataframe tbody tr th {\n",
       "        vertical-align: top;\n",
       "    }\n",
       "\n",
       "    .dataframe thead th {\n",
       "        text-align: right;\n",
       "    }\n",
       "</style>\n",
       "<table border=\"1\" class=\"dataframe\">\n",
       "  <thead>\n",
       "    <tr style=\"text-align: right;\">\n",
       "      <th></th>\n",
       "      <th>teacher_prefix</th>\n",
       "      <th>school_state</th>\n",
       "      <th>project_grade_category</th>\n",
       "      <th>project_subject_categories</th>\n",
       "      <th>project_subject_subcategories</th>\n",
       "      <th>remaining_input</th>\n",
       "      <th>total_txt</th>\n",
       "    </tr>\n",
       "  </thead>\n",
       "  <tbody>\n",
       "    <tr>\n",
       "      <th>0</th>\n",
       "      <td>mrs</td>\n",
       "      <td>in</td>\n",
       "      <td>grades_prek_2</td>\n",
       "      <td>literacy_language</td>\n",
       "      <td>esl_literacy</td>\n",
       "      <td>177.224864</td>\n",
       "      <td>Educational Support for English Learners at Ho...</td>\n",
       "    </tr>\n",
       "  </tbody>\n",
       "</table>\n",
       "</div>"
      ],
      "text/plain": [
       "  teacher_prefix school_state project_grade_category  \\\n",
       "0            mrs           in          grades_prek_2   \n",
       "\n",
       "  project_subject_categories project_subject_subcategories  remaining_input  \\\n",
       "0          literacy_language                  esl_literacy       177.224864   \n",
       "\n",
       "                                           total_txt  \n",
       "0  Educational Support for English Learners at Ho...  "
      ]
     },
     "execution_count": 51,
     "metadata": {},
     "output_type": "execute_result"
    }
   ],
   "source": [
    "train.head(1)"
   ]
  },
  {
   "cell_type": "markdown",
   "metadata": {},
   "source": [
    "### Using TFIDF"
   ]
  },
  {
   "cell_type": "code",
   "execution_count": 52,
   "metadata": {},
   "outputs": [],
   "source": [
    "tfidf = TfidfVectorizer()\n",
    "text_values = tfidf.fit_transform(train['total_txt'])\n",
    "text_idf =tfidf.idf_"
   ]
  },
  {
   "cell_type": "code",
   "execution_count": 53,
   "metadata": {},
   "outputs": [
    {
     "data": {
      "image/png": "[encoded data removed]",
      "text/plain": [
       "<Figure size 432x288 with 1 Axes>"
      ]
     },
     "metadata": {
      "needs_background": "light"
     },
     "output_type": "display_data"
    }
   ],
   "source": [
    "plt.boxplot(tfidf.idf_)\n",
    "plt.ylabel(\"IDF_values of total text score\")\n",
    "plt.grid()\n",
    "plt.show()"
   ]
  },
  {
   "cell_type": "code",
   "execution_count": 54,
   "metadata": {},
   "outputs": [
    {
     "name": "stdout",
     "output_type": "stream",
     "text": [
      "The 25 percentile of idf score is : [9.45660991]\n",
      "The 75 percentile of idf score is : [11.32841209]\n"
     ]
    }
   ],
   "source": [
    "print(\"The 25 percentile of idf score is :\", np.percentile(tfidf.idf_,[25]))\n",
    "print(\"The 75 percentile of idf score is :\",np.percentile(tfidf.idf_,[75]))"
   ]
  },
  {
   "cell_type": "code",
   "execution_count": 55,
   "metadata": {},
   "outputs": [],
   "source": [
    "#https://stackoverflow.com/questions/23792781/tf-idf-feature-weights-using-sklearn-feature-extraction-text-tfidfvectorizer\n",
    "feature_idf = zip(tfidf.get_feature_names(),tfidf.idf_)\n",
    "imp_words = []\n",
    "for x,y in feature_idf:\n",
    "    if y >=9.45660991 and y <=11.32841209 :\n",
    "        imp_words.append(x)"
   ]
  },
  {
   "cell_type": "code",
   "execution_count": 56,
   "metadata": {},
   "outputs": [],
   "source": [
    "all_features = tfidf.get_feature_names()\n",
    "not_imp_words = []\n",
    "for word in all_features:\n",
    "    if word not in imp_words:\n",
    "        not_imp_words.append(word)\n",
    "        \n",
    "def extracting_idf_words_only(sentences):\n",
    "    processed = []\n",
    "    for sent in tqdm(sentences):\n",
    "        sent = ' '.join(e for e in sent.split() if e not in not_imp_words)\n",
    "        processed.append(sent)\n",
    "    return processed"
   ]
  },
  {
   "cell_type": "code",
   "execution_count": 53,
   "metadata": {},
   "outputs": [
    {
     "name": "stderr",
     "output_type": "stream",
     "text": [
      "100%|██████████| 61178/61178 [2:19:24<00:00,  7.31it/s]  \n",
      "100%|██████████| 32775/32775 [1:12:43<00:00,  7.51it/s]\n",
      "100%|██████████| 15295/15295 [34:58<00:00,  7.29it/s]\n"
     ]
    }
   ],
   "source": [
    "train['tfidf_txt'] = extracting_idf_words_only(train['total_txt'])\n",
    "test['tfidf_txt'] = extracting_idf_words_only(test['total_txt'])\n",
    "cv['tfidf_txt'] = extracting_idf_words_only(cv['total_txt'])"
   ]
  },
  {
   "cell_type": "code",
   "execution_count": 54,
   "metadata": {},
   "outputs": [],
   "source": [
    "train['tfidf_txt'].to_csv('LSTM_model2_train_onlytfidf_text.csv',index=True)\n",
    "test['tfidf_txt'].to_csv('LSTM_model2_test_onlytfidf_text.csv',index=True)\n",
    "cv['tfidf_txt'].to_csv('LSTM_model2_cv_onlytfidf_text.csv',index=True)"
   ]
  },
  {
   "cell_type": "code",
   "execution_count": null,
   "metadata": {},
   "outputs": [],
   "source": []
  },
  {
   "cell_type": "code",
   "execution_count": 60,
   "metadata": {
    "scrolled": true
   },
   "outputs": [
    {
     "name": "stderr",
     "output_type": "stream",
     "text": [
      "100%|██████████| 61178/61178 [2:20:28<00:00,  7.26it/s]  \n",
      "100%|██████████| 32775/32775 [1:07:10<00:00,  8.13it/s]\n",
      "100%|██████████| 15295/15295 [30:14<00:00,  8.43it/s]\n"
     ]
    }
   ],
   "source": [
    "train['tfidf_txt'] = extracting_idf_words_only(train['total_txt'])\n",
    "test['tfidf_txt'] = extracting_idf_words_only(test['total_txt'])\n",
    "cv['tfidf_txt'] = extracting_idf_words_only(cv['total_txt'])"
   ]
  },
  {
   "cell_type": "code",
   "execution_count": null,
   "metadata": {},
   "outputs": [],
   "source": [
    "train['tfidf_txt'].to_csv('LSTM_model2_train_tfidf_text.csv',index=True)\n",
    "test['tfidf_txt'].to_csv('LSTM_model2_test_tfidf_text.csv',index=True)\n",
    "cv['tfidf_txt'].to_csv('LSTM_model2_cv_tfidf_text.csv',index=True)"
   ]
  },
  {
   "cell_type": "code",
   "execution_count": null,
   "metadata": {},
   "outputs": [],
   "source": []
  },
  {
   "cell_type": "code",
   "execution_count": 57,
   "metadata": {},
   "outputs": [],
   "source": [
    "trtxt=pd.read_csv('LSTM_model2_train_onlytfidf_text.csv',names=['0','tfidf_txt'])\n",
    "trtxt=trtxt.set_index('0')\n",
    "tstxt=pd.read_csv('LSTM_model2_test_onlytfidf_text.csv',names=['0','tfidf_txt'])\n",
    "tstxt=tstxt.set_index('0')\n",
    "crtxt=pd.read_csv('LSTM_model2_cv_onlytfidf_text.csv',names=['0','tfidf_txt'])\n",
    "crtxt=crtxt.set_index('0')\n",
    "\n",
    "train=pd.merge(train,trtxt,left_index=True,right_index=True)\n",
    "test=pd.merge(test,tstxt,left_index=True,right_index=True)\n",
    "cv=pd.merge(cv,crtxt,left_index=True,right_index=True)"
   ]
  },
  {
   "cell_type": "code",
   "execution_count": null,
   "metadata": {},
   "outputs": [],
   "source": []
  },
  {
   "cell_type": "code",
   "execution_count": 58,
   "metadata": {
    "scrolled": false
   },
   "outputs": [
    {
     "data": {
      "text/html": [
       "<div>\n",
       "<style scoped>\n",
       "    .dataframe tbody tr th:only-of-type {\n",
       "        vertical-align: middle;\n",
       "    }\n",
       "\n",
       "    .dataframe tbody tr th {\n",
       "        vertical-align: top;\n",
       "    }\n",
       "\n",
       "    .dataframe thead th {\n",
       "        text-align: right;\n",
       "    }\n",
       "</style>\n",
       "<table border=\"1\" class=\"dataframe\">\n",
       "  <thead>\n",
       "    <tr style=\"text-align: right;\">\n",
       "      <th></th>\n",
       "      <th>teacher_prefix</th>\n",
       "      <th>school_state</th>\n",
       "      <th>project_grade_category</th>\n",
       "      <th>project_subject_categories</th>\n",
       "      <th>project_subject_subcategories</th>\n",
       "      <th>remaining_input</th>\n",
       "      <th>total_txt</th>\n",
       "      <th>tfidf_txt</th>\n",
       "    </tr>\n",
       "  </thead>\n",
       "  <tbody>\n",
       "    <tr>\n",
       "      <th>0</th>\n",
       "      <td>mrs</td>\n",
       "      <td>in</td>\n",
       "      <td>grades_prek_2</td>\n",
       "      <td>literacy_language</td>\n",
       "      <td>esl_literacy</td>\n",
       "      <td>177.224864</td>\n",
       "      <td>Educational Support for English Learners at Ho...</td>\n",
       "      <td>Educational Support English Learners Home My E...</td>\n",
       "    </tr>\n",
       "    <tr>\n",
       "      <th>1</th>\n",
       "      <td>mr</td>\n",
       "      <td>fl</td>\n",
       "      <td>grades_6_8</td>\n",
       "      <td>history_civics_health_sports</td>\n",
       "      <td>civics_government_teamsports</td>\n",
       "      <td>307.032235</td>\n",
       "      <td>Wanted: Projector for Hungry Learners Our stud...</td>\n",
       "      <td>Wanted: Projector Hungry Learners Our learn. T...</td>\n",
       "    </tr>\n",
       "  </tbody>\n",
       "</table>\n",
       "</div>"
      ],
      "text/plain": [
       "  teacher_prefix school_state project_grade_category  \\\n",
       "0            mrs           in          grades_prek_2   \n",
       "1             mr           fl             grades_6_8   \n",
       "\n",
       "     project_subject_categories project_subject_subcategories  \\\n",
       "0             literacy_language                  esl_literacy   \n",
       "1  history_civics_health_sports  civics_government_teamsports   \n",
       "\n",
       "   remaining_input                                          total_txt  \\\n",
       "0       177.224864  Educational Support for English Learners at Ho...   \n",
       "1       307.032235  Wanted: Projector for Hungry Learners Our stud...   \n",
       "\n",
       "                                           tfidf_txt  \n",
       "0  Educational Support English Learners Home My E...  \n",
       "1  Wanted: Projector Hungry Learners Our learn. T...  "
      ]
     },
     "execution_count": 58,
     "metadata": {},
     "output_type": "execute_result"
    }
   ],
   "source": [
    "train.head(2)"
   ]
  },
  {
   "cell_type": "code",
   "execution_count": 59,
   "metadata": {},
   "outputs": [
    {
     "name": "stdout",
     "output_type": "stream",
     "text": [
      "Educational Support for English Learners at Home My students are English learners that are working on English as their second or third languages. We are a melting pot of refugees, immigrants, and native-born Americans bringing the gift of language to our school. \\r\\n\\r\\n We have over 24 languages represented in our English Learner program with students at every level of mastery.  We also have over 40 countries represented with the families within our school.  Each student brings a wealth of knowledge and experiences to us that open our eyes to new cultures, beliefs, and respect.\\\"The limits of your language are the limits of your world.\\\"-Ludwig Wittgenstein  Our English learner's have a strong support system at home that begs for more resources.  Many times our parents are learning to read and speak English along side of their children.  Sometimes this creates barriers for parents to be able to help their child learn phonetics, letter recognition, and other reading skills.\\r\\n\\r\\nBy providing these dvd's and players, students are able to continue their mastery of the English language even if no one at home is able to assist.  All families with students within the Level 1 proficiency status, will be a offered to be a part of this program.  These educational videos will be specially chosen by the English Learner Teacher and will be sent home regularly to watch.  The videos are to help the child develop early reading skills.\\r\\n\\r\\nParents that do not have access to a dvd player will have the opportunity to check out a dvd player to use for the year.  The plan is to use these videos and educational dvd's for the years to come for other EL students.\\r\\nnannan My students need opportunities to practice beginning reading skills in English at home.\n",
      "##################################################\n",
      "Educational Support English Learners Home My English English languages. We a refugees, immigrants, native-born Americans school. \\r\\n\\r\\n We English Learner mastery. We school. Each a cultures, beliefs, respect.\\\"The world.\\\"-Ludwig Wittgenstein Our English learner's a begs resources. Many English children. Sometimes phonetics, recognition, skills.\\r\\n\\r\\nBy dvd's players, English assist. All Level 1 status, a a program. These English Learner Teacher watch. The skills.\\r\\n\\r\\nParents a a year. The dvd's EL students.\\r\\nnannan My English home.\n"
     ]
    }
   ],
   "source": [
    "print(train['total_txt'].values[0])\n",
    "print(\"#\"*50)\n",
    "print(train['tfidf_txt'].values[0])"
   ]
  },
  {
   "cell_type": "code",
   "execution_count": 61,
   "metadata": {},
   "outputs": [],
   "source": [
    "remain_train =train['remaining_input']\n",
    "remain_test = test['remaining_input']\n",
    "remain_cv= cv['remaining_input']\n",
    "\n",
    "train.drop(['remaining_input'], axis=1,inplace=True)\n",
    "test.drop(['remaining_input'], axis=1,inplace=True)\n",
    "cv.drop(['remaining_input'], axis=1,inplace=True)"
   ]
  },
  {
   "cell_type": "code",
   "execution_count": 62,
   "metadata": {},
   "outputs": [],
   "source": [
    "train.drop(['total_txt'],axis=1,inplace=True)\n",
    "test.drop(['total_txt'],axis=1,inplace=True)\n",
    "cv.drop(['total_txt'],axis=1,inplace=True)"
   ]
  },
  {
   "cell_type": "code",
   "execution_count": 63,
   "metadata": {},
   "outputs": [
    {
     "data": {
      "text/plain": [
       "teacher_prefix                   False\n",
       "school_state                     False\n",
       "project_grade_category           False\n",
       "project_subject_categories       False\n",
       "project_subject_subcategories    False\n",
       "tfidf_txt                        False\n",
       "dtype: bool"
      ]
     },
     "execution_count": 63,
     "metadata": {},
     "output_type": "execute_result"
    }
   ],
   "source": [
    "train.isnull().any()"
   ]
  },
  {
   "cell_type": "markdown",
   "metadata": {},
   "source": [
    "### converting into numerical format"
   ]
  },
  {
   "cell_type": "code",
   "execution_count": 64,
   "metadata": {},
   "outputs": [],
   "source": [
    "X_train=pd.DataFrame()\n",
    "X_test=pd.DataFrame()\n",
    "X_cv=pd.DataFrame()"
   ]
  },
  {
   "cell_type": "code",
   "execution_count": 65,
   "metadata": {},
   "outputs": [],
   "source": [
    "from keras.preprocessing.text import Tokenizer\n",
    "#https://machinelearningmastery.com/prepare-text-data-deep-learning-keras/\n",
    "for i in train.columns:\n",
    "    tokenizer = Tokenizer(num_words=5000)\n",
    "    tokenizer.fit_on_texts(train[i])\n",
    "    #Based on the train data we shall extract the topwords and assign ranking.\n",
    "    X_train[i] = tokenizer.texts_to_sequences(train[i])\n",
    "    X_test[i] =tokenizer.texts_to_sequences(test[i])\n",
    "    X_cv[i] =tokenizer.texts_to_sequences(cv[i])"
   ]
  },
  {
   "cell_type": "code",
   "execution_count": 66,
   "metadata": {},
   "outputs": [
    {
     "name": "stdout",
     "output_type": "stream",
     "text": [
      "(61178, 6)\n"
     ]
    },
    {
     "data": {
      "text/html": [
       "<div>\n",
       "<style scoped>\n",
       "    .dataframe tbody tr th:only-of-type {\n",
       "        vertical-align: middle;\n",
       "    }\n",
       "\n",
       "    .dataframe tbody tr th {\n",
       "        vertical-align: top;\n",
       "    }\n",
       "\n",
       "    .dataframe thead th {\n",
       "        text-align: right;\n",
       "    }\n",
       "</style>\n",
       "<table border=\"1\" class=\"dataframe\">\n",
       "  <thead>\n",
       "    <tr style=\"text-align: right;\">\n",
       "      <th></th>\n",
       "      <th>teacher_prefix</th>\n",
       "      <th>school_state</th>\n",
       "      <th>project_grade_category</th>\n",
       "      <th>project_subject_categories</th>\n",
       "      <th>project_subject_subcategories</th>\n",
       "      <th>tfidf_txt</th>\n",
       "    </tr>\n",
       "  </thead>\n",
       "  <tbody>\n",
       "    <tr>\n",
       "      <th>0</th>\n",
       "      <td>[1]</td>\n",
       "      <td>[12]</td>\n",
       "      <td>[1, 2, 3]</td>\n",
       "      <td>[1, 2]</td>\n",
       "      <td>[13, 1]</td>\n",
       "      <td>[1123, 230, 29, 34, 51, 4, 29, 29, 493, 9, 1, ...</td>\n",
       "    </tr>\n",
       "    <tr>\n",
       "      <th>1</th>\n",
       "      <td>[3]</td>\n",
       "      <td>[4]</td>\n",
       "      <td>[1, 6, 7]</td>\n",
       "      <td>[11, 12, 5, 6]</td>\n",
       "      <td>[31, 32, 22]</td>\n",
       "      <td>[2141, 1021, 714, 34, 15, 20, 6, 3882, 3588, 1...</td>\n",
       "    </tr>\n",
       "  </tbody>\n",
       "</table>\n",
       "</div>"
      ],
      "text/plain": [
       "  teacher_prefix school_state project_grade_category  \\\n",
       "0            [1]         [12]              [1, 2, 3]   \n",
       "1            [3]          [4]              [1, 6, 7]   \n",
       "\n",
       "  project_subject_categories project_subject_subcategories  \\\n",
       "0                     [1, 2]                       [13, 1]   \n",
       "1             [11, 12, 5, 6]                  [31, 32, 22]   \n",
       "\n",
       "                                           tfidf_txt  \n",
       "0  [1123, 230, 29, 34, 51, 4, 29, 29, 493, 9, 1, ...  \n",
       "1  [2141, 1021, 714, 34, 15, 20, 6, 3882, 3588, 1...  "
      ]
     },
     "execution_count": 66,
     "metadata": {},
     "output_type": "execute_result"
    }
   ],
   "source": [
    "print(X_train.shape)\n",
    "X_train.head(2)"
   ]
  },
  {
   "cell_type": "code",
   "execution_count": 67,
   "metadata": {},
   "outputs": [],
   "source": [
    "#converting class labels to categorical variables\n",
    "from keras.utils import to_categorical\n",
    "y_train = to_categorical(y_train)\n",
    "y_test = to_categorical(y_test)\n",
    "y_cv = to_categorical(y_cv)"
   ]
  },
  {
   "cell_type": "code",
   "execution_count": 68,
   "metadata": {},
   "outputs": [
    {
     "data": {
      "text/plain": [
       "215"
      ]
     },
     "execution_count": 68,
     "metadata": {},
     "output_type": "execute_result"
    }
   ],
   "source": [
    "r=list()\n",
    "for i in train['tfidf_txt']:\n",
    "    r.append(len(pd.Series(i).str.split()[0]))\n",
    "\n",
    "length=max(r)\n",
    "length"
   ]
  },
  {
   "cell_type": "code",
   "execution_count": 69,
   "metadata": {},
   "outputs": [
    {
     "name": "stdout",
     "output_type": "stream",
     "text": [
      "(61178, 215)\n",
      "[   0    0    0    0    0    0    0    0    0    0    0    0    0    0\n",
      "    0    0    0    0    0    0    0    0    0    0    0    0    0    0\n",
      "    0    0    0    0    0    0    0    0    0    0    0    0    0    0\n",
      "    0    0    0    0    0    0    0    0    0    0    0    0    0    0\n",
      "    0    0    0    0    0    0    0    0    0    0    0    0    0    0\n",
      "    0    0    0    0    0    0    0    0    0    0    0    0    0    0\n",
      "    0    0    0    0    0    0    0    0    0    0    0    0    0    0\n",
      "    0    0    0    0    0    0    0    0    0    0    0    0    0    0\n",
      "    0    0    0    0    0    0    0    0    0    0    0    0    0    0\n",
      "    0    0    0    0    0    0    0   81 2979  100    3    1  143   53\n",
      "   53    1  126    4    1   91    6  496   12   36    3   96  546   14\n",
      "    3   59   86    1 1415   14  166    7    3 4507   98    8    3    3\n",
      "  267 1924   46  174    4  246    4   81    3  569  184    7   81    7\n",
      "  569  184   14   24    2   30    1   81   81    1    8    6 1364    7\n",
      " 1364    4 1364  666    1   21   46   24  186   24   24    8 2280    2\n",
      "   44    4 1112    1   81]\n"
     ]
    }
   ],
   "source": [
    "max_review_length = length\n",
    "X_train_txt = pad_sequences(X_train['tfidf_txt'], maxlen=max_review_length)  #padding zeros at the begining of each review to make max len as 200\n",
    "X_test_txt = pad_sequences(X_test['tfidf_txt'], maxlen=max_review_length)\n",
    "X_cv_txt = pad_sequences(X_cv['tfidf_txt'], maxlen=max_review_length)\n",
    "print(X_train_txt.shape)\n",
    "print(X_train_txt[256])"
   ]
  },
  {
   "cell_type": "code",
   "execution_count": 70,
   "metadata": {},
   "outputs": [
    {
     "name": "stdout",
     "output_type": "stream",
     "text": [
      "(32775, 1)\n",
      "[12]\n",
      "(61178, 1)\n",
      "[3]\n",
      "(61178, 1)\n",
      "[2]\n",
      "(61178, 1)\n",
      "[1]\n",
      "(61178, 1)\n",
      "[1]\n"
     ]
    }
   ],
   "source": [
    "max_review_length = 1\n",
    "X_train_school_state = pad_sequences(X_train['school_state'], maxlen=max_review_length)  #padding zeros at the begining of each review to make max len as 200\n",
    "X_test_school_state = pad_sequences(X_test['school_state'], maxlen=max_review_length)\n",
    "X_cv_school_state = pad_sequences(X_cv['school_state'], maxlen=max_review_length)\n",
    "s1=X_test_school_state.shape[1]\n",
    "print(X_test_school_state.shape)\n",
    "print(X_test_school_state[0])\n",
    "\n",
    "max_review_length = 1\n",
    "X_train_project_grade = pad_sequences(X_train['project_grade_category'], maxlen=max_review_length)  #padding zeros at the begining of each review to make max len as 200\n",
    "X_test_project_grade = pad_sequences(X_test['project_grade_category'], maxlen=max_review_length)\n",
    "X_cv_project_grade = pad_sequences(X_cv['project_grade_category'], maxlen=max_review_length)\n",
    "s2=X_train_project_grade.shape[1]\n",
    "print(X_train_project_grade.shape)\n",
    "print(X_train_project_grade[0])\n",
    "\n",
    "max_review_length = 1\n",
    "X_train_project_cat = pad_sequences(X_train['project_subject_categories'], maxlen=max_review_length)  #padding zeros at the begining of each review to make max len as 200\n",
    "X_test_project_cat = pad_sequences(X_test['project_subject_categories'], maxlen=max_review_length)\n",
    "X_cv_project_cat = pad_sequences(X_cv['project_subject_categories'], maxlen=max_review_length)\n",
    "s3=X_train_project_cat.shape[1]\n",
    "print(X_train_project_cat.shape)\n",
    "print(X_train_project_cat[0])\n",
    "\n",
    "max_review_length = 1\n",
    "X_train_project_subcat = pad_sequences(X_train['project_subject_subcategories'], maxlen=max_review_length)  #padding zeros at the begining of each review to make max len as 200\n",
    "X_test_project_subcat = pad_sequences(X_test['project_subject_subcategories'], maxlen=max_review_length)\n",
    "X_cv_project_subcat = pad_sequences(X_cv['project_subject_subcategories'], maxlen=max_review_length)\n",
    "s4=X_train_project_subcat.shape[1]\n",
    "print(X_train_project_subcat.shape)\n",
    "print(X_train_project_subcat[0])\n",
    "\n",
    "max_review_length = 1\n",
    "X_train_teacher_prefix = pad_sequences(X_train['teacher_prefix'], maxlen=max_review_length)  #padding zeros at the begining of each review to make max len as 200\n",
    "X_test_teacher_prefix = pad_sequences(X_test['teacher_prefix'], maxlen=max_review_length)\n",
    "X_cv_teacher_prefix = pad_sequences(X_cv['teacher_prefix'], maxlen=max_review_length)\n",
    "s5=X_train_teacher_prefix.shape[1]\n",
    "print(X_train_teacher_prefix.shape)\n",
    "print(X_test_teacher_prefix[0])"
   ]
  },
  {
   "cell_type": "markdown",
   "metadata": {},
   "source": [
    "## model 2"
   ]
  },
  {
   "cell_type": "code",
   "execution_count": 71,
   "metadata": {},
   "outputs": [],
   "source": [
    "t = Tokenizer(num_words=5000)\n",
    "t.fit_on_texts(train['tfidf_txt'])\n",
    "total_text_features = t.word_index"
   ]
  },
  {
   "cell_type": "code",
   "execution_count": 72,
   "metadata": {},
   "outputs": [
    {
     "name": "stdout",
     "output_type": "stream",
     "text": [
      "for teacher_prefix column, the input features are :  5\n",
      "for school_state column, the input features are :  51\n",
      "for project_grade_category column, the input features are :  9\n",
      "for project_subject_categories column, the input features are :  15\n",
      "for project_subject_subcategories column, the input features are :  37\n",
      "for tfidf_txt column, the input features are :  49661\n"
     ]
    }
   ],
   "source": [
    "for i in train.columns:\n",
    "    tokenizer = Tokenizer(num_words=5000)\n",
    "    tokenizer.fit_on_texts(train[i])\n",
    "    print('for ' + i +' column, the input features are :  {0}'.format(len(tokenizer.word_index)))"
   ]
  },
  {
   "cell_type": "code",
   "execution_count": 98,
   "metadata": {},
   "outputs": [
    {
     "name": "stdout",
     "output_type": "stream",
     "text": [
      "Model: \"model_4\"\n",
      "__________________________________________________________________________________________________\n",
      "Layer (type)                    Output Shape         Param #     Connected to                     \n",
      "==================================================================================================\n",
      "input_29 (InputLayer)           (None, 215)          0                                            \n",
      "__________________________________________________________________________________________________\n",
      "embedding_25 (Embedding)        (None, 215, 300)     14898600    input_29[0][0]                   \n",
      "__________________________________________________________________________________________________\n",
      "spatial_dropout1d_15 (SpatialDr (None, 215, 300)     0           embedding_25[0][0]               \n",
      "__________________________________________________________________________________________________\n",
      "input_30 (InputLayer)           (None, 1)            0                                            \n",
      "__________________________________________________________________________________________________\n",
      "input_31 (InputLayer)           (None, 1)            0                                            \n",
      "__________________________________________________________________________________________________\n",
      "input_32 (InputLayer)           (None, 1)            0                                            \n",
      "__________________________________________________________________________________________________\n",
      "input_33 (InputLayer)           (None, 1)            0                                            \n",
      "__________________________________________________________________________________________________\n",
      "input_34 (InputLayer)           (None, 1)            0                                            \n",
      "__________________________________________________________________________________________________\n",
      "cu_dnnlstm_5 (CuDNNLSTM)        (None, 215, 128)     220160      spatial_dropout1d_15[0][0]       \n",
      "__________________________________________________________________________________________________\n",
      "embedding_26 (Embedding)        (None, 1, 2)         4           input_30[0][0]                   \n",
      "__________________________________________________________________________________________________\n",
      "embedding_27 (Embedding)        (None, 1, 2)         4           input_31[0][0]                   \n",
      "__________________________________________________________________________________________________\n",
      "embedding_28 (Embedding)        (None, 1, 2)         4           input_32[0][0]                   \n",
      "__________________________________________________________________________________________________\n",
      "embedding_29 (Embedding)        (None, 1, 50)        100         input_33[0][0]                   \n",
      "__________________________________________________________________________________________________\n",
      "embedding_30 (Embedding)        (None, 1, 5)         10          input_34[0][0]                   \n",
      "__________________________________________________________________________________________________\n",
      "input_35 (InputLayer)           (None, 1)            0                                            \n",
      "__________________________________________________________________________________________________\n",
      "flatten_26 (Flatten)            (None, 27520)        0           cu_dnnlstm_5[0][0]               \n",
      "__________________________________________________________________________________________________\n",
      "flatten_27 (Flatten)            (None, 2)            0           embedding_26[0][0]               \n",
      "__________________________________________________________________________________________________\n",
      "flatten_28 (Flatten)            (None, 2)            0           embedding_27[0][0]               \n",
      "__________________________________________________________________________________________________\n",
      "flatten_29 (Flatten)            (None, 2)            0           embedding_28[0][0]               \n",
      "__________________________________________________________________________________________________\n",
      "flatten_30 (Flatten)            (None, 50)           0           embedding_29[0][0]               \n",
      "__________________________________________________________________________________________________\n",
      "flatten_31 (Flatten)            (None, 5)            0           embedding_30[0][0]               \n",
      "__________________________________________________________________________________________________\n",
      "dense_17 (Dense)                (None, 16)           32          input_35[0][0]                   \n",
      "__________________________________________________________________________________________________\n",
      "concatenate_4 (Concatenate)     (None, 27597)        0           flatten_26[0][0]                 \n",
      "                                                                 flatten_27[0][0]                 \n",
      "                                                                 flatten_28[0][0]                 \n",
      "                                                                 flatten_29[0][0]                 \n",
      "                                                                 flatten_30[0][0]                 \n",
      "                                                                 flatten_31[0][0]                 \n",
      "                                                                 dense_17[0][0]                   \n",
      "__________________________________________________________________________________________________\n",
      "dense_18 (Dense)                (None, 128)          3532544     concatenate_4[0][0]              \n",
      "__________________________________________________________________________________________________\n",
      "dropout_10 (Dropout)            (None, 128)          0           dense_18[0][0]                   \n",
      "__________________________________________________________________________________________________\n",
      "dense_19 (Dense)                (None, 64)           8256        dropout_10[0][0]                 \n",
      "__________________________________________________________________________________________________\n",
      "dropout_11 (Dropout)            (None, 64)           0           dense_19[0][0]                   \n",
      "__________________________________________________________________________________________________\n",
      "batch_normalization_5 (BatchNor (None, 64)           256         dropout_11[0][0]                 \n",
      "__________________________________________________________________________________________________\n",
      "dense_20 (Dense)                (None, 32)           2080        batch_normalization_5[0][0]      \n",
      "__________________________________________________________________________________________________\n",
      "dropout_12 (Dropout)            (None, 32)           0           dense_20[0][0]                   \n",
      "__________________________________________________________________________________________________\n",
      "dense_21 (Dense)                (None, 2)            66          dropout_12[0][0]                 \n",
      "==================================================================================================\n",
      "Total params: 18,662,116\n",
      "Trainable params: 3,763,388\n",
      "Non-trainable params: 14,898,728\n",
      "__________________________________________________________________________________________________\n",
      "None\n"
     ]
    }
   ],
   "source": [
    "#total_txt input 1 \n",
    "input1 = Input(shape=(length,))\n",
    "x1 = Embedding(input_dim=len(tokenizer.word_index)+1,output_dim= 300,weights=[embedding_mat(total_text_features)],trainable=False)(input1)\n",
    "x1 = SpatialDropout1D(0.3)(x1)\n",
    "x1 = CuDNNLSTM(128,return_sequences=True)(x1)\n",
    "x1 = Flatten()(x1)\n",
    "\n",
    "#school_state input 2\n",
    "input2 = Input(shape=(1,))\n",
    "x2 = Embedding(input_dim= s1+1 ,output_dim= 2)(input2)\n",
    "x2 = Flatten()(x2)\n",
    "\n",
    "#project_grade_category input 3\n",
    "input3 = Input(shape=(1,))\n",
    "x3 = Embedding(input_dim= s2+1 ,output_dim= 2)(input3)\n",
    "x3 = Flatten()(x3)\n",
    "\n",
    "#project_subject_categories input 4\n",
    "input4 = Input(shape=(1,))\n",
    "x4 = Embedding(input_dim=s3+1 ,output_dim= 2)(input4)\n",
    "x4 = Flatten()(x4)\n",
    "\n",
    "#project_subject_subcategories input 5\n",
    "input5 = Input(shape=(1,))\n",
    "x5 = Embedding(input_dim=s4+1 ,output_dim= 50)(input5)\n",
    "x5 = Flatten()(x5)\n",
    "\n",
    "#teacher_prefix  input 6\n",
    "input6 = Input(shape=(1,))\n",
    "x6 = Embedding(input_dim=s5+1,output_dim= 5)(input6)\n",
    "x6 = Flatten()(x6)\n",
    "\n",
    "#remaining input layers of numerical data input 7\n",
    "input7 = Input(shape=(1,))\n",
    "x7 = Dense(16,activation='relu',kernel_initializer=he_normal(),kernel_regularizer=l2(0.0001))(input7)\n",
    "\n",
    "#merging all the inputs \n",
    "concat = concatenate([x1,x2,x3,x4,x5,x6,x7])\n",
    "\n",
    "x = Dense(128,activation='relu',kernel_initializer=he_normal(),kernel_regularizer=l2(0.0001))(concat)\n",
    "x = Dropout(0.5)(x)\n",
    "x = Dense(64,activation='relu',kernel_initializer=he_normal(),kernel_regularizer=l2(0.0001))(x)\n",
    "x = Dropout(0.5)(x)\n",
    "x = BatchNormalization()(x)\n",
    "x = Dense(32,activation='relu',kernel_initializer=he_normal(),kernel_regularizer=l2(0.0001))(x)\n",
    "x = Dropout(0.5)(x)\n",
    "output = Dense(2, activation = 'softmax')(x)\n",
    "\n",
    "# create model with seven inputs\n",
    "model3 = Model([input1,input2,input3,input4,input5,input6,input7], output)\n",
    "model3.compile(loss='categorical_crossentropy', optimizer=keras.optimizers.Adam(lr=0.0006,decay = 1e-4),metrics=[auc])\n",
    "print(model3.summary())"
   ]
  },
  {
   "cell_type": "code",
   "execution_count": 99,
   "metadata": {},
   "outputs": [
    {
     "name": "stdout",
     "output_type": "stream",
     "text": [
      "Train on 61178 samples, validate on 15295 samples\n",
      "Epoch 1/25\n",
      "61178/61178 [==============================] - 10s 157us/step - loss: 0.6807 - auc: 0.5166 - val_loss: 0.4626 - val_auc: 0.5696\n",
      "Epoch 2/25\n",
      "61178/61178 [==============================] - 9s 143us/step - loss: 0.5240 - auc: 0.5205 - val_loss: 0.4663 - val_auc: 0.5766\n",
      "Epoch 3/25\n",
      "61178/61178 [==============================] - 9s 143us/step - loss: 0.4836 - auc: 0.5308 - val_loss: 0.4510 - val_auc: 0.5895\n",
      "Epoch 4/25\n",
      "61178/61178 [==============================] - 9s 143us/step - loss: 0.4633 - auc: 0.5429 - val_loss: 0.4415 - val_auc: 0.5916\n",
      "Epoch 5/25\n",
      "61178/61178 [==============================] - 9s 143us/step - loss: 0.4551 - auc: 0.5488 - val_loss: 0.4368 - val_auc: 0.5981\n",
      "Epoch 6/25\n",
      "61178/61178 [==============================] - 9s 142us/step - loss: 0.4487 - auc: 0.5606 - val_loss: 0.4339 - val_auc: 0.6030\n",
      "Epoch 7/25\n",
      "61178/61178 [==============================] - 9s 143us/step - loss: 0.4448 - auc: 0.5694 - val_loss: 0.4285 - val_auc: 0.6175\n",
      "Epoch 8/25\n",
      "61178/61178 [==============================] - 9s 142us/step - loss: 0.4371 - auc: 0.5963 - val_loss: 0.4274 - val_auc: 0.6230\n",
      "Epoch 9/25\n",
      "61178/61178 [==============================] - 9s 143us/step - loss: 0.4335 - auc: 0.6101 - val_loss: 0.4213 - val_auc: 0.6537\n",
      "Epoch 10/25\n",
      "61178/61178 [==============================] - 9s 144us/step - loss: 0.4279 - auc: 0.6325 - val_loss: 0.4174 - val_auc: 0.6596\n",
      "Epoch 11/25\n",
      "61178/61178 [==============================] - 9s 142us/step - loss: 0.4245 - auc: 0.6422 - val_loss: 0.4123 - val_auc: 0.6720\n",
      "Epoch 12/25\n",
      "61178/61178 [==============================] - 9s 142us/step - loss: 0.4221 - auc: 0.6496 - val_loss: 0.4087 - val_auc: 0.6765\n",
      "Epoch 13/25\n",
      "61178/61178 [==============================] - 9s 143us/step - loss: 0.4191 - auc: 0.6599 - val_loss: 0.4066 - val_auc: 0.6808\n",
      "Epoch 14/25\n",
      "61178/61178 [==============================] - 9s 143us/step - loss: 0.4174 - auc: 0.6641 - val_loss: 0.4062 - val_auc: 0.6823\n",
      "Epoch 15/25\n",
      "61178/61178 [==============================] - 9s 142us/step - loss: 0.4166 - auc: 0.6652 - val_loss: 0.4049 - val_auc: 0.6874\n",
      "Epoch 16/25\n",
      "61178/61178 [==============================] - 9s 143us/step - loss: 0.4140 - auc: 0.6717 - val_loss: 0.4030 - val_auc: 0.6869\n",
      "Epoch 17/25\n",
      "61178/61178 [==============================] - 9s 142us/step - loss: 0.4131 - auc: 0.6745 - val_loss: 0.4025 - val_auc: 0.6881\n",
      "Epoch 18/25\n",
      "61178/61178 [==============================] - 9s 142us/step - loss: 0.4101 - auc: 0.6815 - val_loss: 0.4021 - val_auc: 0.6910\n",
      "Epoch 19/25\n",
      "61178/61178 [==============================] - 9s 142us/step - loss: 0.4081 - auc: 0.6877 - val_loss: 0.3987 - val_auc: 0.6996\n",
      "Epoch 20/25\n",
      "61178/61178 [==============================] - 9s 141us/step - loss: 0.4069 - auc: 0.6889 - val_loss: 0.3998 - val_auc: 0.6998\n",
      "Epoch 21/25\n",
      "61178/61178 [==============================] - 9s 142us/step - loss: 0.4055 - auc: 0.6914 - val_loss: 0.4003 - val_auc: 0.6927\n",
      "Epoch 22/25\n",
      "61178/61178 [==============================] - 9s 141us/step - loss: 0.4039 - auc: 0.6966 - val_loss: 0.3997 - val_auc: 0.6983\n",
      "Epoch 23/25\n",
      "61178/61178 [==============================] - 9s 142us/step - loss: 0.4028 - auc: 0.6984 - val_loss: 0.3969 - val_auc: 0.7006\n",
      "Epoch 24/25\n",
      "61178/61178 [==============================] - 9s 141us/step - loss: 0.4001 - auc: 0.7043 - val_loss: 0.3964 - val_auc: 0.7030\n",
      "Epoch 25/25\n",
      "61178/61178 [==============================] - 9s 141us/step - loss: 0.3988 - auc: 0.7078 - val_loss: 0.3991 - val_auc: 0.7020\n"
     ]
    }
   ],
   "source": [
    "history=model3.fit([X_train_txt,X_train_school_state,X_train_project_grade,X_train_project_cat,X_train_project_subcat,\\\n",
    "           X_train_teacher_prefix,remain_train], y_train, nb_epoch=25,verbose=1,batch_size=256,\\\n",
    "          validation_data=([X_cv_txt,X_cv_school_state,X_cv_project_grade,X_cv_project_cat,X_cv_project_subcat,\\\n",
    "           X_cv_teacher_prefix,remain_cv]  , y_cv),class_weight = class_wght )#,callbacks =callbacks_list"
   ]
  },
  {
   "cell_type": "code",
   "execution_count": 100,
   "metadata": {},
   "outputs": [],
   "source": [
    "pred_y_test3=model3.predict([X_test_txt,X_test_school_state,X_test_project_grade,X_test_project_cat,X_test_project_subcat,X_test_teacher_prefix,remain_test])\n",
    "pred_y_cv3 = model3.predict([X_cv_txt,X_cv_school_state,X_cv_project_grade,X_cv_project_cat,X_cv_project_subcat,X_cv_teacher_prefix,remain_cv])\n",
    "pred_y_train3=model3.predict([X_train_txt,X_train_school_state,X_train_project_grade,X_train_project_cat,X_train_project_subcat,X_train_teacher_prefix,remain_train])"
   ]
  },
  {
   "cell_type": "code",
   "execution_count": 101,
   "metadata": {},
   "outputs": [
    {
     "name": "stdout",
     "output_type": "stream",
     "text": [
      "Auc score on test data: 0.702\n",
      "Auc score on CV data: 0.702\n",
      "Auc score on train data: 0.746\n"
     ]
    }
   ],
   "source": [
    "print(\"Auc score on test data: %0.3f\"%roc_auc_score(y_test,pred_y_test3))\n",
    "print(\"Auc score on CV data: %0.3f\"%roc_auc_score(y_cv,pred_y_cv3))\n",
    "print(\"Auc score on train data: %0.3f\"%roc_auc_score(y_train,pred_y_train3))"
   ]
  },
  {
   "cell_type": "code",
   "execution_count": 102,
   "metadata": {},
   "outputs": [
    {
     "data": {
      "image/png": "[encoded data removed]",
      "text/plain": [
       "<Figure size 432x288 with 1 Axes>"
      ]
     },
     "metadata": {
      "needs_background": "light"
     },
     "output_type": "display_data"
    }
   ],
   "source": [
    "%matplotlib inline\n",
    "import matplotlib.pyplot as plt\n",
    "import numpy as np\n",
    "import time\n",
    "\n",
    "def plt_dynamic(x, vy, ty, ax, colors=['b']):\n",
    "    ax.plot(x, vy, 'b', label=\"Validation Loss\")\n",
    "    ax.plot(x, ty, 'r', label=\"Train Loss\")\n",
    "    plt.legend()\n",
    "    plt.grid()\n",
    "    fig.canvas.draw()\n",
    "    \n",
    "nb_epoch=25\n",
    "fig,ax = plt.subplots(1,1)\n",
    "ax.set_xlabel('epoch') \n",
    "ax.set_ylabel('Categorical Crossentropy Loss')\n",
    "\n",
    "# list of epoch numbers\n",
    "x = list(range(1,nb_epoch+1))\n",
    "vy = history.history['val_loss']\n",
    "ty = history.history['loss']\n",
    "plt_dynamic(x, vy, ty, ax)"
   ]
  },
  {
   "cell_type": "markdown",
   "metadata": {},
   "source": [
    "# Conclusion:"
   ]
  },
  {
   "cell_type": "code",
   "execution_count": 103,
   "metadata": {},
   "outputs": [
    {
     "name": "stdout",
     "output_type": "stream",
     "text": [
      "+-------------+----------------+---------------+-------------+\n",
      "| LSTM_Models | train_accuracy | test_accuracy | CV_accuracy |\n",
      "+-------------+----------------+---------------+-------------+\n",
      "|      1      |      0.78      |      0.75     |     0.76    |\n",
      "|      2      |     0.746      |     0.702     |    0.702    |\n",
      "|      3      |     0.833      |     0.761     |    0.762    |\n",
      "+-------------+----------------+---------------+-------------+\n"
     ]
    }
   ],
   "source": [
    "from prettytable import PrettyTable\n",
    "x = PrettyTable()\n",
    "x = PrettyTable([\"LSTM_Models\", \"train_accuracy\", \"test_accuracy\", \"CV_accuracy\"])\n",
    "x.add_row(['1',0.780,0.750,0.760])\n",
    "x.add_row(['2',0.746,0.702,0.702])\n",
    "x.add_row(['3',0.833,0.761,0.762])\n",
    "print(x)"
   ]
  },
  {
   "cell_type": "code",
   "execution_count": null,
   "metadata": {},
   "outputs": [],
   "source": []
  }
 ],
 "metadata": {
  "kernelspec": {
   "display_name": "Python 3",
   "language": "python",
   "name": "python3"
  },
  "language_info": {
   "codemirror_mode": {
    "name": "ipython",
    "version": 3
   },
   "file_extension": ".py",
   "mimetype": "text/x-python",
   "name": "python",
   "nbconvert_exporter": "python",
   "pygments_lexer": "ipython3",
   "version": "3.5.3"
  }
 },
 "nbformat": 4,
 "nbformat_minor": 2
}
